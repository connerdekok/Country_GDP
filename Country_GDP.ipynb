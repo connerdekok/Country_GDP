{
 "cells": [
  {
   "cell_type": "markdown",
   "metadata": {},
   "source": [
    "# Project 1: Countries GDP Compared\n",
    "---\n",
    "\n",
    "## Contributors- Conner Dekok, Emily Turner, Zane Huttinga, Dylan Phimister, and Kossivi Agbenohevi. "
   ]
  },
  {
   "cell_type": "code",
   "execution_count": 5,
   "metadata": {},
   "outputs": [
    {
     "data": {
      "text/html": [
       "<div>\n",
       "<style scoped>\n",
       "    .dataframe tbody tr th:only-of-type {\n",
       "        vertical-align: middle;\n",
       "    }\n",
       "\n",
       "    .dataframe tbody tr th {\n",
       "        vertical-align: top;\n",
       "    }\n",
       "\n",
       "    .dataframe thead th {\n",
       "        text-align: right;\n",
       "    }\n",
       "</style>\n",
       "<table border=\"1\" class=\"dataframe\">\n",
       "  <thead>\n",
       "    <tr style=\"text-align: right;\">\n",
       "      <th></th>\n",
       "      <th>Sr.No</th>\n",
       "      <th>Country</th>\n",
       "      <th>1970</th>\n",
       "      <th>1971</th>\n",
       "      <th>1972</th>\n",
       "      <th>1973</th>\n",
       "      <th>1974</th>\n",
       "      <th>1975</th>\n",
       "      <th>1976</th>\n",
       "      <th>1977</th>\n",
       "      <th>...</th>\n",
       "      <th>2013</th>\n",
       "      <th>2014</th>\n",
       "      <th>2015</th>\n",
       "      <th>2016</th>\n",
       "      <th>2017</th>\n",
       "      <th>2018</th>\n",
       "      <th>2019</th>\n",
       "      <th>2020</th>\n",
       "      <th>2021</th>\n",
       "      <th>2022</th>\n",
       "    </tr>\n",
       "  </thead>\n",
       "  <tbody>\n",
       "    <tr>\n",
       "      <th>0</th>\n",
       "      <td>1</td>\n",
       "      <td>Afghanistan</td>\n",
       "      <td>162.642176</td>\n",
       "      <td>166.224832</td>\n",
       "      <td>141.365323</td>\n",
       "      <td>149.744069</td>\n",
       "      <td>181.598776</td>\n",
       "      <td>194.669036</td>\n",
       "      <td>205.674097</td>\n",
       "      <td>232.778698</td>\n",
       "      <td>...</td>\n",
       "      <td>631.060444</td>\n",
       "      <td>596.048898</td>\n",
       "      <td>554.004007</td>\n",
       "      <td>526.164709</td>\n",
       "      <td>534.020133</td>\n",
       "      <td>513.981256</td>\n",
       "      <td>512.910125</td>\n",
       "      <td>512.749930</td>\n",
       "      <td>378.082892</td>\n",
       "      <td>344.649112</td>\n",
       "    </tr>\n",
       "    <tr>\n",
       "      <th>1</th>\n",
       "      <td>2</td>\n",
       "      <td>Albania</td>\n",
       "      <td>974.554499</td>\n",
       "      <td>975.216820</td>\n",
       "      <td>976.521166</td>\n",
       "      <td>978.617771</td>\n",
       "      <td>981.265874</td>\n",
       "      <td>984.901966</td>\n",
       "      <td>989.749878</td>\n",
       "      <td>994.937066</td>\n",
       "      <td>...</td>\n",
       "      <td>4425.430822</td>\n",
       "      <td>4586.606188</td>\n",
       "      <td>3950.390255</td>\n",
       "      <td>4117.006970</td>\n",
       "      <td>4521.752217</td>\n",
       "      <td>5268.116608</td>\n",
       "      <td>5359.239078</td>\n",
       "      <td>5288.989573</td>\n",
       "      <td>6281.046775</td>\n",
       "      <td>6655.258391</td>\n",
       "    </tr>\n",
       "    <tr>\n",
       "      <th>2</th>\n",
       "      <td>3</td>\n",
       "      <td>Algeria</td>\n",
       "      <td>373.670080</td>\n",
       "      <td>380.125666</td>\n",
       "      <td>496.991248</td>\n",
       "      <td>624.193795</td>\n",
       "      <td>875.023948</td>\n",
       "      <td>989.243356</td>\n",
       "      <td>1075.725904</td>\n",
       "      <td>1225.090692</td>\n",
       "      <td>...</td>\n",
       "      <td>5519.777576</td>\n",
       "      <td>5516.229431</td>\n",
       "      <td>4197.417286</td>\n",
       "      <td>3967.200546</td>\n",
       "      <td>4134.936055</td>\n",
       "      <td>4171.795392</td>\n",
       "      <td>4021.983602</td>\n",
       "      <td>3354.157303</td>\n",
       "      <td>3700.320562</td>\n",
       "      <td>4273.922183</td>\n",
       "    </tr>\n",
       "    <tr>\n",
       "      <th>3</th>\n",
       "      <td>4</td>\n",
       "      <td>Andorra</td>\n",
       "      <td>5008.901637</td>\n",
       "      <td>5305.716707</td>\n",
       "      <td>6285.301526</td>\n",
       "      <td>7824.531307</td>\n",
       "      <td>9078.009005</td>\n",
       "      <td>10076.494834</td>\n",
       "      <td>9817.312977</td>\n",
       "      <td>10384.507961</td>\n",
       "      <td>...</td>\n",
       "      <td>44735.004774</td>\n",
       "      <td>45619.782548</td>\n",
       "      <td>38869.870777</td>\n",
       "      <td>39904.138181</td>\n",
       "      <td>40632.206416</td>\n",
       "      <td>42904.822583</td>\n",
       "      <td>41328.634079</td>\n",
       "      <td>37207.175636</td>\n",
       "      <td>42065.970756</td>\n",
       "      <td>42293.297081</td>\n",
       "    </tr>\n",
       "    <tr>\n",
       "      <th>4</th>\n",
       "      <td>5</td>\n",
       "      <td>Angola</td>\n",
       "      <td>631.514939</td>\n",
       "      <td>648.910896</td>\n",
       "      <td>644.659613</td>\n",
       "      <td>762.730111</td>\n",
       "      <td>827.378464</td>\n",
       "      <td>589.868220</td>\n",
       "      <td>547.946934</td>\n",
       "      <td>578.443953</td>\n",
       "      <td>...</td>\n",
       "      <td>5228.511165</td>\n",
       "      <td>5371.216648</td>\n",
       "      <td>4130.930080</td>\n",
       "      <td>3468.520268</td>\n",
       "      <td>4042.681382</td>\n",
       "      <td>3240.862207</td>\n",
       "      <td>2569.629757</td>\n",
       "      <td>1639.951023</td>\n",
       "      <td>2026.030952</td>\n",
       "      <td>3183.699796</td>\n",
       "    </tr>\n",
       "    <tr>\n",
       "      <th>...</th>\n",
       "      <td>...</td>\n",
       "      <td>...</td>\n",
       "      <td>...</td>\n",
       "      <td>...</td>\n",
       "      <td>...</td>\n",
       "      <td>...</td>\n",
       "      <td>...</td>\n",
       "      <td>...</td>\n",
       "      <td>...</td>\n",
       "      <td>...</td>\n",
       "      <td>...</td>\n",
       "      <td>...</td>\n",
       "      <td>...</td>\n",
       "      <td>...</td>\n",
       "      <td>...</td>\n",
       "      <td>...</td>\n",
       "      <td>...</td>\n",
       "      <td>...</td>\n",
       "      <td>...</td>\n",
       "      <td>...</td>\n",
       "      <td>...</td>\n",
       "    </tr>\n",
       "    <tr>\n",
       "      <th>182</th>\n",
       "      <td>183</td>\n",
       "      <td>Yemen Arab Republic (Former)</td>\n",
       "      <td>76.222959</td>\n",
       "      <td>87.998562</td>\n",
       "      <td>124.898913</td>\n",
       "      <td>110.398671</td>\n",
       "      <td>130.344863</td>\n",
       "      <td>154.173397</td>\n",
       "      <td>163.609346</td>\n",
       "      <td>181.710840</td>\n",
       "      <td>...</td>\n",
       "      <td>NaN</td>\n",
       "      <td>NaN</td>\n",
       "      <td>NaN</td>\n",
       "      <td>NaN</td>\n",
       "      <td>NaN</td>\n",
       "      <td>NaN</td>\n",
       "      <td>NaN</td>\n",
       "      <td>NaN</td>\n",
       "      <td>NaN</td>\n",
       "      <td>NaN</td>\n",
       "    </tr>\n",
       "    <tr>\n",
       "      <th>183</th>\n",
       "      <td>184</td>\n",
       "      <td>Yemen Democratic (Former)</td>\n",
       "      <td>94.929351</td>\n",
       "      <td>85.003136</td>\n",
       "      <td>92.397759</td>\n",
       "      <td>73.556033</td>\n",
       "      <td>76.071783</td>\n",
       "      <td>75.559923</td>\n",
       "      <td>95.488404</td>\n",
       "      <td>114.550976</td>\n",
       "      <td>...</td>\n",
       "      <td>NaN</td>\n",
       "      <td>NaN</td>\n",
       "      <td>NaN</td>\n",
       "      <td>NaN</td>\n",
       "      <td>NaN</td>\n",
       "      <td>NaN</td>\n",
       "      <td>NaN</td>\n",
       "      <td>NaN</td>\n",
       "      <td>NaN</td>\n",
       "      <td>NaN</td>\n",
       "    </tr>\n",
       "    <tr>\n",
       "      <th>184</th>\n",
       "      <td>185</td>\n",
       "      <td>Yugoslavia (Former)</td>\n",
       "      <td>704.150562</td>\n",
       "      <td>757.937976</td>\n",
       "      <td>783.579953</td>\n",
       "      <td>1011.118968</td>\n",
       "      <td>1385.814039</td>\n",
       "      <td>1537.956907</td>\n",
       "      <td>1719.654598</td>\n",
       "      <td>2071.555089</td>\n",
       "      <td>...</td>\n",
       "      <td>NaN</td>\n",
       "      <td>NaN</td>\n",
       "      <td>NaN</td>\n",
       "      <td>NaN</td>\n",
       "      <td>NaN</td>\n",
       "      <td>NaN</td>\n",
       "      <td>NaN</td>\n",
       "      <td>NaN</td>\n",
       "      <td>NaN</td>\n",
       "      <td>NaN</td>\n",
       "    </tr>\n",
       "    <tr>\n",
       "      <th>185</th>\n",
       "      <td>186</td>\n",
       "      <td>Zambia</td>\n",
       "      <td>360.651807</td>\n",
       "      <td>357.771353</td>\n",
       "      <td>409.332165</td>\n",
       "      <td>504.983508</td>\n",
       "      <td>604.411205</td>\n",
       "      <td>539.065320</td>\n",
       "      <td>553.914220</td>\n",
       "      <td>528.811611</td>\n",
       "      <td>...</td>\n",
       "      <td>1745.014154</td>\n",
       "      <td>1696.117261</td>\n",
       "      <td>1283.982258</td>\n",
       "      <td>1227.976126</td>\n",
       "      <td>1497.004453</td>\n",
       "      <td>1475.226627</td>\n",
       "      <td>1268.212284</td>\n",
       "      <td>954.356128</td>\n",
       "      <td>1135.078255</td>\n",
       "      <td>1455.546876</td>\n",
       "    </tr>\n",
       "    <tr>\n",
       "      <th>186</th>\n",
       "      <td>187</td>\n",
       "      <td>Zimbabwe</td>\n",
       "      <td>449.078443</td>\n",
       "      <td>503.731409</td>\n",
       "      <td>603.030370</td>\n",
       "      <td>718.359564</td>\n",
       "      <td>836.465455</td>\n",
       "      <td>889.056832</td>\n",
       "      <td>851.930852</td>\n",
       "      <td>838.458026</td>\n",
       "      <td>...</td>\n",
       "      <td>1408.367809</td>\n",
       "      <td>1407.034293</td>\n",
       "      <td>1410.329175</td>\n",
       "      <td>1421.787790</td>\n",
       "      <td>1494.170144</td>\n",
       "      <td>1570.886029</td>\n",
       "      <td>1471.513983</td>\n",
       "      <td>1382.591426</td>\n",
       "      <td>1507.994790</td>\n",
       "      <td>1618.733070</td>\n",
       "    </tr>\n",
       "  </tbody>\n",
       "</table>\n",
       "<p>187 rows × 55 columns</p>\n",
       "</div>"
      ],
      "text/plain": [
       "     Sr.No                       Country         1970         1971  \\\n",
       "0        1                   Afghanistan   162.642176   166.224832   \n",
       "1        2                       Albania   974.554499   975.216820   \n",
       "2        3                       Algeria   373.670080   380.125666   \n",
       "3        4                       Andorra  5008.901637  5305.716707   \n",
       "4        5                        Angola   631.514939   648.910896   \n",
       "..     ...                           ...          ...          ...   \n",
       "182    183  Yemen Arab Republic (Former)    76.222959    87.998562   \n",
       "183    184     Yemen Democratic (Former)    94.929351    85.003136   \n",
       "184    185           Yugoslavia (Former)   704.150562   757.937976   \n",
       "185    186                        Zambia   360.651807   357.771353   \n",
       "186    187                      Zimbabwe   449.078443   503.731409   \n",
       "\n",
       "            1972         1973         1974          1975         1976  \\\n",
       "0     141.365323   149.744069   181.598776    194.669036   205.674097   \n",
       "1     976.521166   978.617771   981.265874    984.901966   989.749878   \n",
       "2     496.991248   624.193795   875.023948    989.243356  1075.725904   \n",
       "3    6285.301526  7824.531307  9078.009005  10076.494834  9817.312977   \n",
       "4     644.659613   762.730111   827.378464    589.868220   547.946934   \n",
       "..           ...          ...          ...           ...          ...   \n",
       "182   124.898913   110.398671   130.344863    154.173397   163.609346   \n",
       "183    92.397759    73.556033    76.071783     75.559923    95.488404   \n",
       "184   783.579953  1011.118968  1385.814039   1537.956907  1719.654598   \n",
       "185   409.332165   504.983508   604.411205    539.065320   553.914220   \n",
       "186   603.030370   718.359564   836.465455    889.056832   851.930852   \n",
       "\n",
       "             1977  ...          2013          2014          2015  \\\n",
       "0      232.778698  ...    631.060444    596.048898    554.004007   \n",
       "1      994.937066  ...   4425.430822   4586.606188   3950.390255   \n",
       "2     1225.090692  ...   5519.777576   5516.229431   4197.417286   \n",
       "3    10384.507961  ...  44735.004774  45619.782548  38869.870777   \n",
       "4      578.443953  ...   5228.511165   5371.216648   4130.930080   \n",
       "..            ...  ...           ...           ...           ...   \n",
       "182    181.710840  ...           NaN           NaN           NaN   \n",
       "183    114.550976  ...           NaN           NaN           NaN   \n",
       "184   2071.555089  ...           NaN           NaN           NaN   \n",
       "185    528.811611  ...   1745.014154   1696.117261   1283.982258   \n",
       "186    838.458026  ...   1408.367809   1407.034293   1410.329175   \n",
       "\n",
       "             2016          2017          2018          2019          2020  \\\n",
       "0      526.164709    534.020133    513.981256    512.910125    512.749930   \n",
       "1     4117.006970   4521.752217   5268.116608   5359.239078   5288.989573   \n",
       "2     3967.200546   4134.936055   4171.795392   4021.983602   3354.157303   \n",
       "3    39904.138181  40632.206416  42904.822583  41328.634079  37207.175636   \n",
       "4     3468.520268   4042.681382   3240.862207   2569.629757   1639.951023   \n",
       "..            ...           ...           ...           ...           ...   \n",
       "182           NaN           NaN           NaN           NaN           NaN   \n",
       "183           NaN           NaN           NaN           NaN           NaN   \n",
       "184           NaN           NaN           NaN           NaN           NaN   \n",
       "185   1227.976126   1497.004453   1475.226627   1268.212284    954.356128   \n",
       "186   1421.787790   1494.170144   1570.886029   1471.513983   1382.591426   \n",
       "\n",
       "             2021          2022  \n",
       "0      378.082892    344.649112  \n",
       "1     6281.046775   6655.258391  \n",
       "2     3700.320562   4273.922183  \n",
       "3    42065.970756  42293.297081  \n",
       "4     2026.030952   3183.699796  \n",
       "..            ...           ...  \n",
       "182           NaN           NaN  \n",
       "183           NaN           NaN  \n",
       "184           NaN           NaN  \n",
       "185   1135.078255   1455.546876  \n",
       "186   1507.994790   1618.733070  \n",
       "\n",
       "[187 rows x 55 columns]"
      ]
     },
     "execution_count": 5,
     "metadata": {},
     "output_type": "execute_result"
    }
   ],
   "source": [
    "#Import Data/ Read In Data\n",
    "import pandas as pd\n",
    "import numpy as np\n",
    "import matplotlib.pyplot as plt\n",
    "import scipy.stats as st\n",
    "Country_List = pd.read_csv(\"Per Capita GDP.csv\")\n",
    "Country_List"
   ]
  },
  {
   "cell_type": "code",
   "execution_count": null,
   "metadata": {},
   "outputs": [],
   "source": []
  },
  {
   "cell_type": "code",
   "execution_count": null,
   "metadata": {},
   "outputs": [],
   "source": []
  },
  {
   "cell_type": "code",
   "execution_count": null,
   "metadata": {},
   "outputs": [],
   "source": [
    "\n",
    "\n"
   ]
  },
  {
   "cell_type": "code",
   "execution_count": null,
   "metadata": {},
   "outputs": [],
   "source": []
  },
  {
   "cell_type": "code",
   "execution_count": 6,
   "metadata": {},
   "outputs": [
    {
     "ename": "FileNotFoundError",
     "evalue": "[Errno 2] No such file or directory: 'data/Per Capita GDP.csv'",
     "output_type": "error",
     "traceback": [
      "\u001b[1;31m---------------------------------------------------------------------------\u001b[0m",
      "\u001b[1;31mFileNotFoundError\u001b[0m                         Traceback (most recent call last)",
      "Cell \u001b[1;32mIn[6], line 2\u001b[0m\n\u001b[0;32m      1\u001b[0m \u001b[38;5;66;03m# Find Data in CSV file\u001b[39;00m\n\u001b[1;32m----> 2\u001b[0m df \u001b[38;5;241m=\u001b[39m pd\u001b[38;5;241m.\u001b[39mread_csv(\u001b[38;5;124m\"\u001b[39m\u001b[38;5;124mdata/Per Capita GDP.csv\u001b[39m\u001b[38;5;124m\"\u001b[39m)\n\u001b[0;32m      4\u001b[0m \u001b[38;5;66;03m# Set the 'Country' column as the index\u001b[39;00m\n\u001b[0;32m      5\u001b[0m df\u001b[38;5;241m.\u001b[39mset_index(\u001b[38;5;124m'\u001b[39m\u001b[38;5;124mCountry\u001b[39m\u001b[38;5;124m'\u001b[39m, inplace\u001b[38;5;241m=\u001b[39m\u001b[38;5;28;01mTrue\u001b[39;00m)\n",
      "File \u001b[1;32m~\\anaconda3\\Lib\\site-packages\\pandas\\io\\parsers\\readers.py:1026\u001b[0m, in \u001b[0;36mread_csv\u001b[1;34m(filepath_or_buffer, sep, delimiter, header, names, index_col, usecols, dtype, engine, converters, true_values, false_values, skipinitialspace, skiprows, skipfooter, nrows, na_values, keep_default_na, na_filter, verbose, skip_blank_lines, parse_dates, infer_datetime_format, keep_date_col, date_parser, date_format, dayfirst, cache_dates, iterator, chunksize, compression, thousands, decimal, lineterminator, quotechar, quoting, doublequote, escapechar, comment, encoding, encoding_errors, dialect, on_bad_lines, delim_whitespace, low_memory, memory_map, float_precision, storage_options, dtype_backend)\u001b[0m\n\u001b[0;32m   1013\u001b[0m kwds_defaults \u001b[38;5;241m=\u001b[39m _refine_defaults_read(\n\u001b[0;32m   1014\u001b[0m     dialect,\n\u001b[0;32m   1015\u001b[0m     delimiter,\n\u001b[1;32m   (...)\u001b[0m\n\u001b[0;32m   1022\u001b[0m     dtype_backend\u001b[38;5;241m=\u001b[39mdtype_backend,\n\u001b[0;32m   1023\u001b[0m )\n\u001b[0;32m   1024\u001b[0m kwds\u001b[38;5;241m.\u001b[39mupdate(kwds_defaults)\n\u001b[1;32m-> 1026\u001b[0m \u001b[38;5;28;01mreturn\u001b[39;00m _read(filepath_or_buffer, kwds)\n",
      "File \u001b[1;32m~\\anaconda3\\Lib\\site-packages\\pandas\\io\\parsers\\readers.py:620\u001b[0m, in \u001b[0;36m_read\u001b[1;34m(filepath_or_buffer, kwds)\u001b[0m\n\u001b[0;32m    617\u001b[0m _validate_names(kwds\u001b[38;5;241m.\u001b[39mget(\u001b[38;5;124m\"\u001b[39m\u001b[38;5;124mnames\u001b[39m\u001b[38;5;124m\"\u001b[39m, \u001b[38;5;28;01mNone\u001b[39;00m))\n\u001b[0;32m    619\u001b[0m \u001b[38;5;66;03m# Create the parser.\u001b[39;00m\n\u001b[1;32m--> 620\u001b[0m parser \u001b[38;5;241m=\u001b[39m TextFileReader(filepath_or_buffer, \u001b[38;5;241m*\u001b[39m\u001b[38;5;241m*\u001b[39mkwds)\n\u001b[0;32m    622\u001b[0m \u001b[38;5;28;01mif\u001b[39;00m chunksize \u001b[38;5;129;01mor\u001b[39;00m iterator:\n\u001b[0;32m    623\u001b[0m     \u001b[38;5;28;01mreturn\u001b[39;00m parser\n",
      "File \u001b[1;32m~\\anaconda3\\Lib\\site-packages\\pandas\\io\\parsers\\readers.py:1620\u001b[0m, in \u001b[0;36mTextFileReader.__init__\u001b[1;34m(self, f, engine, **kwds)\u001b[0m\n\u001b[0;32m   1617\u001b[0m     \u001b[38;5;28mself\u001b[39m\u001b[38;5;241m.\u001b[39moptions[\u001b[38;5;124m\"\u001b[39m\u001b[38;5;124mhas_index_names\u001b[39m\u001b[38;5;124m\"\u001b[39m] \u001b[38;5;241m=\u001b[39m kwds[\u001b[38;5;124m\"\u001b[39m\u001b[38;5;124mhas_index_names\u001b[39m\u001b[38;5;124m\"\u001b[39m]\n\u001b[0;32m   1619\u001b[0m \u001b[38;5;28mself\u001b[39m\u001b[38;5;241m.\u001b[39mhandles: IOHandles \u001b[38;5;241m|\u001b[39m \u001b[38;5;28;01mNone\u001b[39;00m \u001b[38;5;241m=\u001b[39m \u001b[38;5;28;01mNone\u001b[39;00m\n\u001b[1;32m-> 1620\u001b[0m \u001b[38;5;28mself\u001b[39m\u001b[38;5;241m.\u001b[39m_engine \u001b[38;5;241m=\u001b[39m \u001b[38;5;28mself\u001b[39m\u001b[38;5;241m.\u001b[39m_make_engine(f, \u001b[38;5;28mself\u001b[39m\u001b[38;5;241m.\u001b[39mengine)\n",
      "File \u001b[1;32m~\\anaconda3\\Lib\\site-packages\\pandas\\io\\parsers\\readers.py:1880\u001b[0m, in \u001b[0;36mTextFileReader._make_engine\u001b[1;34m(self, f, engine)\u001b[0m\n\u001b[0;32m   1878\u001b[0m     \u001b[38;5;28;01mif\u001b[39;00m \u001b[38;5;124m\"\u001b[39m\u001b[38;5;124mb\u001b[39m\u001b[38;5;124m\"\u001b[39m \u001b[38;5;129;01mnot\u001b[39;00m \u001b[38;5;129;01min\u001b[39;00m mode:\n\u001b[0;32m   1879\u001b[0m         mode \u001b[38;5;241m+\u001b[39m\u001b[38;5;241m=\u001b[39m \u001b[38;5;124m\"\u001b[39m\u001b[38;5;124mb\u001b[39m\u001b[38;5;124m\"\u001b[39m\n\u001b[1;32m-> 1880\u001b[0m \u001b[38;5;28mself\u001b[39m\u001b[38;5;241m.\u001b[39mhandles \u001b[38;5;241m=\u001b[39m get_handle(\n\u001b[0;32m   1881\u001b[0m     f,\n\u001b[0;32m   1882\u001b[0m     mode,\n\u001b[0;32m   1883\u001b[0m     encoding\u001b[38;5;241m=\u001b[39m\u001b[38;5;28mself\u001b[39m\u001b[38;5;241m.\u001b[39moptions\u001b[38;5;241m.\u001b[39mget(\u001b[38;5;124m\"\u001b[39m\u001b[38;5;124mencoding\u001b[39m\u001b[38;5;124m\"\u001b[39m, \u001b[38;5;28;01mNone\u001b[39;00m),\n\u001b[0;32m   1884\u001b[0m     compression\u001b[38;5;241m=\u001b[39m\u001b[38;5;28mself\u001b[39m\u001b[38;5;241m.\u001b[39moptions\u001b[38;5;241m.\u001b[39mget(\u001b[38;5;124m\"\u001b[39m\u001b[38;5;124mcompression\u001b[39m\u001b[38;5;124m\"\u001b[39m, \u001b[38;5;28;01mNone\u001b[39;00m),\n\u001b[0;32m   1885\u001b[0m     memory_map\u001b[38;5;241m=\u001b[39m\u001b[38;5;28mself\u001b[39m\u001b[38;5;241m.\u001b[39moptions\u001b[38;5;241m.\u001b[39mget(\u001b[38;5;124m\"\u001b[39m\u001b[38;5;124mmemory_map\u001b[39m\u001b[38;5;124m\"\u001b[39m, \u001b[38;5;28;01mFalse\u001b[39;00m),\n\u001b[0;32m   1886\u001b[0m     is_text\u001b[38;5;241m=\u001b[39mis_text,\n\u001b[0;32m   1887\u001b[0m     errors\u001b[38;5;241m=\u001b[39m\u001b[38;5;28mself\u001b[39m\u001b[38;5;241m.\u001b[39moptions\u001b[38;5;241m.\u001b[39mget(\u001b[38;5;124m\"\u001b[39m\u001b[38;5;124mencoding_errors\u001b[39m\u001b[38;5;124m\"\u001b[39m, \u001b[38;5;124m\"\u001b[39m\u001b[38;5;124mstrict\u001b[39m\u001b[38;5;124m\"\u001b[39m),\n\u001b[0;32m   1888\u001b[0m     storage_options\u001b[38;5;241m=\u001b[39m\u001b[38;5;28mself\u001b[39m\u001b[38;5;241m.\u001b[39moptions\u001b[38;5;241m.\u001b[39mget(\u001b[38;5;124m\"\u001b[39m\u001b[38;5;124mstorage_options\u001b[39m\u001b[38;5;124m\"\u001b[39m, \u001b[38;5;28;01mNone\u001b[39;00m),\n\u001b[0;32m   1889\u001b[0m )\n\u001b[0;32m   1890\u001b[0m \u001b[38;5;28;01massert\u001b[39;00m \u001b[38;5;28mself\u001b[39m\u001b[38;5;241m.\u001b[39mhandles \u001b[38;5;129;01mis\u001b[39;00m \u001b[38;5;129;01mnot\u001b[39;00m \u001b[38;5;28;01mNone\u001b[39;00m\n\u001b[0;32m   1891\u001b[0m f \u001b[38;5;241m=\u001b[39m \u001b[38;5;28mself\u001b[39m\u001b[38;5;241m.\u001b[39mhandles\u001b[38;5;241m.\u001b[39mhandle\n",
      "File \u001b[1;32m~\\anaconda3\\Lib\\site-packages\\pandas\\io\\common.py:873\u001b[0m, in \u001b[0;36mget_handle\u001b[1;34m(path_or_buf, mode, encoding, compression, memory_map, is_text, errors, storage_options)\u001b[0m\n\u001b[0;32m    868\u001b[0m \u001b[38;5;28;01melif\u001b[39;00m \u001b[38;5;28misinstance\u001b[39m(handle, \u001b[38;5;28mstr\u001b[39m):\n\u001b[0;32m    869\u001b[0m     \u001b[38;5;66;03m# Check whether the filename is to be opened in binary mode.\u001b[39;00m\n\u001b[0;32m    870\u001b[0m     \u001b[38;5;66;03m# Binary mode does not support 'encoding' and 'newline'.\u001b[39;00m\n\u001b[0;32m    871\u001b[0m     \u001b[38;5;28;01mif\u001b[39;00m ioargs\u001b[38;5;241m.\u001b[39mencoding \u001b[38;5;129;01mand\u001b[39;00m \u001b[38;5;124m\"\u001b[39m\u001b[38;5;124mb\u001b[39m\u001b[38;5;124m\"\u001b[39m \u001b[38;5;129;01mnot\u001b[39;00m \u001b[38;5;129;01min\u001b[39;00m ioargs\u001b[38;5;241m.\u001b[39mmode:\n\u001b[0;32m    872\u001b[0m         \u001b[38;5;66;03m# Encoding\u001b[39;00m\n\u001b[1;32m--> 873\u001b[0m         handle \u001b[38;5;241m=\u001b[39m \u001b[38;5;28mopen\u001b[39m(\n\u001b[0;32m    874\u001b[0m             handle,\n\u001b[0;32m    875\u001b[0m             ioargs\u001b[38;5;241m.\u001b[39mmode,\n\u001b[0;32m    876\u001b[0m             encoding\u001b[38;5;241m=\u001b[39mioargs\u001b[38;5;241m.\u001b[39mencoding,\n\u001b[0;32m    877\u001b[0m             errors\u001b[38;5;241m=\u001b[39merrors,\n\u001b[0;32m    878\u001b[0m             newline\u001b[38;5;241m=\u001b[39m\u001b[38;5;124m\"\u001b[39m\u001b[38;5;124m\"\u001b[39m,\n\u001b[0;32m    879\u001b[0m         )\n\u001b[0;32m    880\u001b[0m     \u001b[38;5;28;01melse\u001b[39;00m:\n\u001b[0;32m    881\u001b[0m         \u001b[38;5;66;03m# Binary mode\u001b[39;00m\n\u001b[0;32m    882\u001b[0m         handle \u001b[38;5;241m=\u001b[39m \u001b[38;5;28mopen\u001b[39m(handle, ioargs\u001b[38;5;241m.\u001b[39mmode)\n",
      "\u001b[1;31mFileNotFoundError\u001b[0m: [Errno 2] No such file or directory: 'data/Per Capita GDP.csv'"
     ]
    }
   ],
   "source": [
    "\n",
    "# Find Data in CSV file\n",
    "df = pd.read_csv(\"data/Per Capita GDP.csv\")\n",
    "\n",
    "# Set the 'Country' column as the index\n",
    "df.set_index('Country', inplace=True)\n",
    "\n",
    "# Calculate the mean for each country\n",
    "mean_summary = df.mean(axis=1)\n",
    "\n",
    "# Calculate the median for each country\n",
    "median_summary = df.median(axis=1)\n",
    "\n",
    "# Calculate the maximum for each country\n",
    "max_summary = df.max(axis=1)\n",
    "\n",
    "# Calculate the minimum for each country\n",
    "min_summary = df.min(axis=1)\n",
    "\n",
    "# Combine the summaries into a new DataFrame\n",
    "summary_df = pd.DataFrame({\n",
    "    'Mean': mean_summary,\n",
    "    'Median': median_summary,\n",
    "    'Max': max_summary,\n",
    "    'Min': min_summary})\n",
    "\n",
    "summary_df"
   ]
  },
  {
   "cell_type": "code",
   "execution_count": null,
   "metadata": {},
   "outputs": [],
   "source": [
    "Conner Start\n",
    "\n"
   ]
  },
  {
   "cell_type": "code",
   "execution_count": null,
   "metadata": {},
   "outputs": [],
   "source": [
    "\n",
    "\n"
   ]
  },
  {
   "cell_type": "code",
   "execution_count": null,
   "metadata": {},
   "outputs": [],
   "source": [
    "\n",
    "\n"
   ]
  },
  {
   "cell_type": "code",
   "execution_count": null,
   "metadata": {},
   "outputs": [],
   "source": [
    "\n",
    "\n"
   ]
  },
  {
   "cell_type": "code",
   "execution_count": null,
   "metadata": {},
   "outputs": [],
   "source": [
    "\n",
    "\n"
   ]
  },
  {
   "cell_type": "code",
   "execution_count": null,
   "metadata": {},
   "outputs": [],
   "source": [
    "\n",
    "\n"
   ]
  },
  {
   "cell_type": "code",
   "execution_count": null,
   "metadata": {},
   "outputs": [],
   "source": [
    "\n",
    "\n"
   ]
  },
  {
   "cell_type": "code",
   "execution_count": null,
   "metadata": {},
   "outputs": [],
   "source": [
    "\n",
    "\n"
   ]
  },
  {
   "cell_type": "code",
   "execution_count": null,
   "metadata": {},
   "outputs": [],
   "source": [
    "\n",
    "\n",
    "\n",
    "\n"
   ]
  },
  {
   "cell_type": "code",
   "execution_count": null,
   "metadata": {},
   "outputs": [],
   "source": [
    "\n",
    "\n"
   ]
  },
  {
   "cell_type": "code",
   "execution_count": null,
   "metadata": {},
   "outputs": [],
   "source": [
    "Conner End\n",
    "\n"
   ]
  },
  {
   "cell_type": "code",
   "execution_count": null,
   "metadata": {},
   "outputs": [],
   "source": [
    "Emily Start\n",
    "\n"
   ]
  },
  {
   "cell_type": "code",
   "execution_count": null,
   "metadata": {},
   "outputs": [],
   "source": [
    "\n",
    "\n"
   ]
  },
  {
   "cell_type": "code",
   "execution_count": null,
   "metadata": {},
   "outputs": [],
   "source": [
    "\n",
    "\n"
   ]
  },
  {
   "cell_type": "code",
   "execution_count": null,
   "metadata": {},
   "outputs": [],
   "source": [
    "\n",
    "\n"
   ]
  },
  {
   "cell_type": "code",
   "execution_count": null,
   "metadata": {},
   "outputs": [],
   "source": [
    "\n",
    "\n"
   ]
  },
  {
   "cell_type": "code",
   "execution_count": null,
   "metadata": {},
   "outputs": [],
   "source": [
    "\n",
    "\n"
   ]
  },
  {
   "cell_type": "code",
   "execution_count": null,
   "metadata": {},
   "outputs": [],
   "source": [
    "\n",
    "\n"
   ]
  },
  {
   "cell_type": "code",
   "execution_count": null,
   "metadata": {},
   "outputs": [],
   "source": [
    "\n",
    "\n"
   ]
  },
  {
   "cell_type": "code",
   "execution_count": null,
   "metadata": {},
   "outputs": [],
   "source": [
    "\n",
    "\n"
   ]
  },
  {
   "cell_type": "code",
   "execution_count": null,
   "metadata": {},
   "outputs": [],
   "source": [
    "Emily End\n"
   ]
  },
  {
   "cell_type": "code",
   "execution_count": null,
   "metadata": {},
   "outputs": [],
   "source": [
    "Zane Start\n",
    "\n"
   ]
  },
  {
   "cell_type": "code",
   "execution_count": null,
   "metadata": {},
   "outputs": [],
   "source": [
    "\n",
    "\n"
   ]
  },
  {
   "cell_type": "code",
   "execution_count": null,
   "metadata": {},
   "outputs": [],
   "source": [
    "\n",
    "\n"
   ]
  },
  {
   "cell_type": "code",
   "execution_count": null,
   "metadata": {},
   "outputs": [],
   "source": [
    "\n",
    "\n"
   ]
  },
  {
   "cell_type": "code",
   "execution_count": null,
   "metadata": {},
   "outputs": [],
   "source": [
    "\n",
    "\n"
   ]
  },
  {
   "cell_type": "code",
   "execution_count": null,
   "metadata": {},
   "outputs": [],
   "source": [
    "\n",
    "\n",
    "\n",
    "\n"
   ]
  },
  {
   "cell_type": "code",
   "execution_count": null,
   "metadata": {},
   "outputs": [],
   "source": [
    "\n",
    "\n",
    "\n",
    "\n"
   ]
  },
  {
   "cell_type": "code",
   "execution_count": null,
   "metadata": {},
   "outputs": [],
   "source": [
    "\n",
    "\n",
    "\n",
    "\n"
   ]
  },
  {
   "cell_type": "code",
   "execution_count": null,
   "metadata": {},
   "outputs": [],
   "source": [
    "\n",
    "\n",
    "\n",
    "\n"
   ]
  },
  {
   "cell_type": "code",
   "execution_count": null,
   "metadata": {},
   "outputs": [],
   "source": [
    "\n",
    "\n",
    "\n",
    "\n"
   ]
  },
  {
   "cell_type": "code",
   "execution_count": null,
   "metadata": {},
   "outputs": [],
   "source": [
    "Zane End\n",
    "\n",
    "\n",
    "\n"
   ]
  },
  {
   "cell_type": "code",
   "execution_count": null,
   "metadata": {},
   "outputs": [],
   "source": [
    "\n",
    "Dylan Start\n",
    "\n",
    "\n"
   ]
  },
  {
   "cell_type": "code",
   "execution_count": 15,
   "metadata": {},
   "outputs": [
    {
     "name": "stdout",
     "output_type": "stream",
     "text": [
      "43789.75607488125\n",
      "65427.40692442909\n",
      "97328.16891988128\n",
      "203275.31700022327\n",
      "199382.78120688215\n",
      "240535.04330897532\n"
     ]
    }
   ],
   "source": [
    "country_gdp_df = pd.DataFrame(Country_List)\n",
    "years_70s = country_gdp_df[['1970', '1971', '1972', '1973', '1974', '1975', '1976', '1977', '1978', '1979']]\n",
    "max_of_decade_70 = years_70s.max()\n",
    "max_gdp_70 = max_of_decade_70.max()\n",
    "print(max_gdp_70)\n",
    "years_80s = country_gdp_df[['1980', '1981', '1982', '1983', '1984', '1985', '1986', '1987', '1988', '1989']]\n",
    "max_of_decade_80 = years_80s.max()\n",
    "max_gdp_80 = max_of_decade_80.max()\n",
    "print(max_gdp_80)\n",
    "years_90s = country_gdp_df[['1990', '1991', '1992', '1993', '1994', '1995', '1996', '1997', '1998', '1999']]\n",
    "max_of_decade_90 = years_90s.max()\n",
    "max_gdp_90 = max_of_decade_90.max()\n",
    "print(max_gdp_90)\n",
    "years_2000s = country_gdp_df[['2000', '2001', '2002', '2003', '2004', '2005', '2006', '2007', '2008', '2009']]\n",
    "max_of_decade_2000 = years_2000s.max()\n",
    "max_gdp_2000 = max_of_decade_2000.max()\n",
    "print(max_gdp_2000)\n",
    "years_2010s = country_gdp_df[['2010', '2011', '2012', '2013', '2014', '2015', '2016', '2017', '2018', '2019']]\n",
    "max_of_decade_2010 = years_2010s.max()\n",
    "max_gdp_2010 = max_of_decade_2010.max()\n",
    "print(max_gdp_2010)\n",
    "years_2020s = country_gdp_df[['2020', '2021', '2022']]\n",
    "max_of_decade_2020 = years_2020s.max()\n",
    "max_gdp_2020 = max_of_decade_2020.max()\n",
    "print(max_gdp_2020)"
   ]
  },
  {
   "cell_type": "code",
   "execution_count": 17,
   "metadata": {},
   "outputs": [
    {
     "name": "stdout",
     "output_type": "stream",
     "text": [
      "The country with the highest GDP across the 70s is Monaco with a gdp of 43789.75607488125 \n",
      "The country with the highest GDP across the 80s is Monaco with a gdp of 65427.40692442909 \n",
      "The country with the highest GDP across the 90s is Monaco with a gdp of 97328.16891988128 \n",
      "The country with the highest GDP across the 2000s is Monaco with a gdp of 203275.31700022327 \n",
      "The country with the highest GDP across the 2010s is Monaco with a gdp of 199382.78120688215 \n",
      "The country with the highest GDP across the 2020s is Monaco with a gdp of 240535.04330897532 \n"
     ]
    }
   ],
   "source": [
    "gdp_columns_70s = ['1970', '1971', '1972', '1973', '1974', '1975', '1976', '1977', '1978', '1979']\n",
    "country_gdp_df['Max_GDP'] = country_gdp_df[gdp_columns_70s].max(axis=1)\n",
    "max_gdp_country_70 = country_gdp_df.loc[country_gdp_df['Max_GDP'].idxmax(), 'Country']\n",
    "print(f\"The country with the highest GDP across the 70s is {max_gdp_country_70} with a gdp of {max_gdp_70} \")\n",
    "\n",
    "gdp_columns_80s = ['1980', '1981', '1982', '1983', '1984', '1985', '1986', '1987', '1988', '1989']\n",
    "country_gdp_df['Max_GDP'] = country_gdp_df[gdp_columns_80s].max(axis=1)\n",
    "max_gdp_country_80 = country_gdp_df.loc[country_gdp_df['Max_GDP'].idxmax(), 'Country']\n",
    "print(f\"The country with the highest GDP across the 80s is {max_gdp_country_80} with a gdp of {max_gdp_80} \")\n",
    "\n",
    "gdp_columns_90s = ['1990', '1991', '1992', '1993', '1994', '1995', '1996', '1997', '1998', '1999']\n",
    "country_gdp_df['Max_GDP'] = country_gdp_df[gdp_columns_90s].max(axis=1)\n",
    "max_gdp_country_90 = country_gdp_df.loc[country_gdp_df['Max_GDP'].idxmax(), 'Country']\n",
    "print(f\"The country with the highest GDP across the 90s is {max_gdp_country_90} with a gdp of {max_gdp_90} \")\n",
    "\n",
    "gdp_columns_2000s = ['2000', '2001', '2002', '2003', '2004', '2005', '2006', '2007', '2008', '2009']\n",
    "country_gdp_df['Max_GDP'] = country_gdp_df[gdp_columns_2000s].max(axis=1)\n",
    "max_gdp_country_2000 = country_gdp_df.loc[country_gdp_df['Max_GDP'].idxmax(), 'Country']\n",
    "print(f\"The country with the highest GDP across the 2000s is {max_gdp_country_2000} with a gdp of {max_gdp_2000} \")\n",
    "\n",
    "gdp_columns_2010s = ['2010', '2011', '2012', '2013', '2014', '2015', '2016', '2017', '2018', '2019']\n",
    "country_gdp_df['Max_GDP'] = country_gdp_df[gdp_columns_2010s].max(axis=1)\n",
    "max_gdp_country_2010 = country_gdp_df.loc[country_gdp_df['Max_GDP'].idxmax(), 'Country']\n",
    "print(f\"The country with the highest GDP across the 2010s is {max_gdp_country_2010} with a gdp of {max_gdp_2010} \")\n",
    "\n",
    "gdp_columns_2020s = ['2020', '2021', '2022']\n",
    "country_gdp_df['Max_GDP'] = country_gdp_df[gdp_columns_2020s].max(axis=1)\n",
    "max_gdp_country_2020 = country_gdp_df.loc[country_gdp_df['Max_GDP'].idxmax(), 'Country']\n",
    "print(f\"The country with the highest GDP across the 2020s is {max_gdp_country_2020} with a gdp of {max_gdp_2020} \")"
   ]
  },
  {
   "cell_type": "code",
   "execution_count": 19,
   "metadata": {},
   "outputs": [
    {
     "data": {
      "image/png": "[encoded data removed]",
      "text/plain": [
       "<Figure size 640x480 with 1 Axes>"
      ]
     },
     "metadata": {},
     "output_type": "display_data"
    }
   ],
   "source": [
    "x_values = ['70s', '80s', '90s', '2000s', '2010s', '2020s']\n",
    "y_values = [max_gdp_70, max_gdp_80, max_gdp_90, max_gdp_2000, max_gdp_2010, max_gdp_2020]\n",
    "plt.bar(x_values, y_values)\n",
    "plt.title(\"Highest GDP Per Decade (1970-2022)\")\n",
    "plt.xlabel(\"Decades\")\n",
    "plt.ylabel(\"GDP per Capita (USD)\")\n",
    "plt.savefig('Highest_GDP_Per_Decade.png', format = 'png', dpi = 300)"
   ]
  },
  {
   "cell_type": "code",
   "execution_count": 21,
   "metadata": {},
   "outputs": [
    {
     "name": "stdout",
     "output_type": "stream",
     "text": [
      "44.52136540527323\n",
      "34.720631516284\n",
      "96.319674213885\n",
      "86.79415517028625\n",
      "222.6608502289184\n",
      "282.43105775771164\n"
     ]
    }
   ],
   "source": [
    "country_gdp_df = pd.DataFrame(Country_List)\n",
    "years_70s = country_gdp_df[['1970', '1971', '1972', '1973', '1974', '1975', '1976', '1977', '1978', '1979']]\n",
    "min_of_decade_70 = years_70s.min()\n",
    "min_gdp_70 = min_of_decade_70.min()\n",
    "print(min_gdp_70)\n",
    "years_80s = country_gdp_df[['1980', '1981', '1982', '1983', '1984', '1985', '1986', '1987', '1988', '1989']]\n",
    "min_of_decade_80 = years_80s.min()\n",
    "min_gdp_80 = min_of_decade_80.min()\n",
    "print(min_gdp_80)\n",
    "years_90s = country_gdp_df[['1990', '1991', '1992', '1993', '1994', '1995', '1996', '1997', '1998', '1999']]\n",
    "min_of_decade_90 = years_90s.min()\n",
    "min_gdp_90 = min_of_decade_90.min()\n",
    "print(min_gdp_90)\n",
    "years_2000s = country_gdp_df[['2000', '2001', '2002', '2003', '2004', '2005', '2006', '2007', '2008', '2009']]\n",
    "min_of_decade_2000 = years_2000s.min()\n",
    "min_gdp_2000 = min_of_decade_2000.min()\n",
    "print(min_gdp_2000)\n",
    "years_2010s = country_gdp_df[['2010', '2011', '2012', '2013', '2014', '2015', '2016', '2017', '2018', '2019']]\n",
    "min_of_decade_2010 = years_2010s.min()\n",
    "min_gdp_2010 = min_of_decade_2010.min()\n",
    "print(min_gdp_2010)\n",
    "years_2020s = country_gdp_df[['2020', '2021', '2022']]\n",
    "min_of_decade_2020 = years_2020s.min()\n",
    "min_gdp_2020 = min_of_decade_2020.min()\n",
    "print(min_gdp_2020)\n",
    "\n"
   ]
  },
  {
   "cell_type": "code",
   "execution_count": 23,
   "metadata": {},
   "outputs": [
    {
     "name": "stdout",
     "output_type": "stream",
     "text": [
      "The country with the lowest GDP across the 70s is Lao People's DR with a gdp of 44.52136540527323 \n",
      "The country with the lowest GDP across the 80s is Viet Nam with a gdp of 34.720631516284 \n",
      "The country with the lowest GDP across the 90s is Liberia with a gdp of 96.319674213885 \n",
      "The country with the lowest GDP across the 2000s is Burundi with a gdp of 86.79415517028625 \n",
      "The country with the lowest GDP across the 2010s is Burundi with a gdp of 222.6608502289184 \n",
      "The country with the lowest GDP across the 2020s is Burundi with a gdp of 282.43105775771164 \n"
     ]
    }
   ],
   "source": [
    "gdp_columns_70s = ['1970', '1971', '1972', '1973', '1974', '1975', '1976', '1977', '1978', '1979']\n",
    "country_gdp_df['Min_GDP'] = country_gdp_df[gdp_columns_70s].min(axis=1)\n",
    "min_gdp_country_70 = country_gdp_df.loc[country_gdp_df['Min_GDP'].idxmin(), 'Country']\n",
    "print(f\"The country with the lowest GDP across the 70s is {min_gdp_country_70} with a gdp of {min_gdp_70} \")\n",
    "\n",
    "gdp_columns_80s = ['1980', '1981', '1982', '1983', '1984', '1985', '1986', '1987', '1988', '1989']\n",
    "country_gdp_df['Min_GDP'] = country_gdp_df[gdp_columns_80s].min(axis=1)\n",
    "min_gdp_country_80 = country_gdp_df.loc[country_gdp_df['Min_GDP'].idxmin(), 'Country']\n",
    "print(f\"The country with the lowest GDP across the 80s is {min_gdp_country_80} with a gdp of {min_gdp_80} \")\n",
    "\n",
    "gdp_columns_90s = ['1990', '1991', '1992', '1993', '1994', '1995', '1996', '1997', '1998', '1999']\n",
    "country_gdp_df['Min_GDP'] = country_gdp_df[gdp_columns_90s].min(axis=1)\n",
    "min_gdp_country_90 = country_gdp_df.loc[country_gdp_df['Min_GDP'].idxmin(), 'Country']\n",
    "print(f\"The country with the lowest GDP across the 90s is {min_gdp_country_90} with a gdp of {min_gdp_90} \")\n",
    "\n",
    "gdp_columns_2000s = ['2000', '2001', '2002', '2003', '2004', '2005', '2006', '2007', '2008', '2009']\n",
    "country_gdp_df['Min_GDP'] = country_gdp_df[gdp_columns_2000s].min(axis=1)\n",
    "min_gdp_country_2000 = country_gdp_df.loc[country_gdp_df['Min_GDP'].idxmin(), 'Country']\n",
    "print(f\"The country with the lowest GDP across the 2000s is {min_gdp_country_2000} with a gdp of {min_gdp_2000} \")\n",
    "\n",
    "gdp_columns_2010s = ['2010', '2011', '2012', '2013', '2014', '2015', '2016', '2017', '2018', '2019']\n",
    "country_gdp_df['Min_GDP'] = country_gdp_df[gdp_columns_2000s].min(axis=1)\n",
    "min_gdp_country_2010 = country_gdp_df.loc[country_gdp_df['Min_GDP'].idxmin(), 'Country']\n",
    "print(f\"The country with the lowest GDP across the 2010s is {min_gdp_country_2010} with a gdp of {min_gdp_2010} \")\n",
    "\n",
    "gdp_columns_2020s = ['2020', '2021', '2022']\n",
    "country_gdp_df['Min_GDP'] = country_gdp_df[gdp_columns_2020s].min(axis=1)\n",
    "min_gdp_country_2020 = country_gdp_df.loc[country_gdp_df['Min_GDP'].idxmin(), 'Country']\n",
    "print(f\"The country with the lowest GDP across the 2020s is {min_gdp_country_2020} with a gdp of {min_gdp_2020} \")"
   ]
  },
  {
   "cell_type": "code",
   "execution_count": 25,
   "metadata": {},
   "outputs": [
    {
     "data": {
      "image/png": "[encoded data removed]",
      "text/plain": [
       "<Figure size 640x480 with 1 Axes>"
      ]
     },
     "metadata": {},
     "output_type": "display_data"
    }
   ],
   "source": [
    "\n",
    "x_values = ['70s', '80s', '90s', '2000s', '2010s', '2020s']\n",
    "y_values = [min_gdp_70, min_gdp_80, min_gdp_90, min_gdp_2000, min_gdp_2010, min_gdp_2020]\n",
    "plt.bar(x_values, y_values)\n",
    "plt.title(\"Lowest GDP Per Decade (1970-2022)\")\n",
    "plt.xlabel(\"Decades\")\n",
    "plt.ylabel(\"GDP per Capita (USD)\")\n",
    "plt.savefig('Lowest_GDP_Per_Decade.png', format = 'png', dpi = 300)\n"
   ]
  },
  {
   "cell_type": "code",
   "execution_count": 27,
   "metadata": {},
   "outputs": [
    {
     "name": "stdout",
     "output_type": "stream",
     "text": [
      "The mean GDP of the 1970s was: 2254.595777635739\n",
      "The mean GDP of the 1980s was: 4725.731613055192\n",
      "The mean GDP of the 1990s was: 8371.936843603675\n",
      "The mean GDP of the 2000s was: 13293.193181452249\n",
      "The mean GDP of the 2010s was: 18558.79019119872\n",
      "The mean GDP of the 2020s was: 19853.73666782617\n"
     ]
    }
   ],
   "source": [
    "country_gdp_df = pd.DataFrame(Country_List)\n",
    "years_70s = country_gdp_df[['1970', '1971', '1972', '1973', '1974', '1975', '1976', '1977', '1978', '1979']]\n",
    "mean_of_decade_70 = years_70s.mean()\n",
    "mean_gdp_70 = mean_of_decade_70.mean()\n",
    "print(f\"The mean GDP of the 1970s was: {mean_gdp_70}\")\n",
    "years_80s = country_gdp_df[['1980', '1981', '1982', '1983', '1984', '1985', '1986', '1987', '1988', '1989']]\n",
    "mean_of_decade_80 = years_80s.mean()\n",
    "mean_gdp_80 = mean_of_decade_80.mean()\n",
    "print(f\"The mean GDP of the 1980s was: {mean_gdp_80}\")\n",
    "years_90s = country_gdp_df[['1990', '1991', '1992', '1993', '1994', '1995', '1996', '1997', '1998', '1999']]\n",
    "mean_of_decade_90 = years_90s.mean()\n",
    "mean_gdp_90 = mean_of_decade_90.mean()\n",
    "print(f\"The mean GDP of the 1990s was: {mean_gdp_90}\")\n",
    "years_2000s = country_gdp_df[['2000', '2001', '2002', '2003', '2004', '2005', '2006', '2007', '2008', '2009']]\n",
    "mean_of_decade_2000 = years_2000s.mean()\n",
    "mean_gdp_2000 = mean_of_decade_2000.mean()\n",
    "print(f\"The mean GDP of the 2000s was: {mean_gdp_2000}\")\n",
    "years_2010s = country_gdp_df[['2010', '2011', '2012', '2013', '2014', '2015', '2016', '2017', '2018', '2019']]\n",
    "mean_of_decade_2010 = years_2010s.mean()\n",
    "mean_gdp_2010 = mean_of_decade_2010.mean()\n",
    "print(f\"The mean GDP of the 2010s was: {mean_gdp_2010}\")\n",
    "years_2020s = country_gdp_df[['2020', '2021', '2022']]\n",
    "mean_of_decade_2020 = years_2020s.mean()\n",
    "mean_gdp_2020 = mean_of_decade_2020.mean()\n",
    "print(f\"The mean GDP of the 2020s was: {mean_gdp_2020}\")"
   ]
  },
  {
   "cell_type": "code",
   "execution_count": 29,
   "metadata": {},
   "outputs": [
    {
     "data": {
      "image/png": "[encoded data removed]",
      "text/plain": [
       "<Figure size 640x480 with 1 Axes>"
      ]
     },
     "metadata": {},
     "output_type": "display_data"
    }
   ],
   "source": [
    "x_values = ['70s', '80s', '90s', '2000s', '2010s', '2020s']\n",
    "y_values = [mean_gdp_70, mean_gdp_80, mean_gdp_90, mean_gdp_2000, mean_gdp_2010, mean_gdp_2020]\n",
    "plt.bar(x_values, y_values)\n",
    "plt.title(\"The Mean GDP per Decade (1970-2022)\")\n",
    "plt.xlabel(\"Decades\")\n",
    "plt.ylabel(\"Mean GDP per Capita (USD)\")\n",
    "plt.savefig('Mean_GDP_Per_Decade.png', format = 'png', dpi = 300)"
   ]
  },
  {
   "cell_type": "code",
   "execution_count": 31,
   "metadata": {},
   "outputs": [
    {
     "name": "stdout",
     "output_type": "stream",
     "text": [
      "The median GDP of the 1970s was: 879.3304365668176\n",
      "The median GDP of the 1980s was: 1644.9618736800528\n",
      "The median GDP of the 1990s was: 2275.895912725954\n",
      "The median GDP of the 2000s was: 3597.5919045464025\n",
      "The median GDP of the 2010s was: 6688.228505132951\n",
      "The median GDP of the 2020s was: 6635.4639234485885\n"
     ]
    }
   ],
   "source": [
    "country_gdp_df = pd.DataFrame(Country_List)\n",
    "years_70s = country_gdp_df[['1970', '1971', '1972', '1973', '1974', '1975', '1976', '1977', '1978', '1979']]\n",
    "median_of_decade_70 = years_70s.median()\n",
    "median_gdp_70 = median_of_decade_70.median()\n",
    "print(f\"The median GDP of the 1970s was: {median_gdp_70}\")\n",
    "years_80s = country_gdp_df[['1980', '1981', '1982', '1983', '1984', '1985', '1986', '1987', '1988', '1989']]\n",
    "median_of_decade_80 = years_80s.median()\n",
    "median_gdp_80 = median_of_decade_80.median()\n",
    "print(f\"The median GDP of the 1980s was: {median_gdp_80}\")\n",
    "years_90s = country_gdp_df[['1990', '1991', '1992', '1993', '1994', '1995', '1996', '1997', '1998', '1999']]\n",
    "median_of_decade_90 = years_90s.median()\n",
    "median_gdp_90 = median_of_decade_90.median()\n",
    "print(f\"The median GDP of the 1990s was: {median_gdp_90}\")\n",
    "years_2000s = country_gdp_df[['2000', '2001', '2002', '2003', '2004', '2005', '2006', '2007', '2008', '2009']]\n",
    "median_of_decade_2000 = years_2000s.median()\n",
    "median_gdp_2000 = median_of_decade_2000.median()\n",
    "print(f\"The median GDP of the 2000s was: {median_gdp_2000}\")\n",
    "years_2010s = country_gdp_df[['2010', '2011', '2012', '2013', '2014', '2015', '2016', '2017', '2018', '2019']]\n",
    "median_of_decade_2010 = years_2010s.median()\n",
    "median_gdp_2010 = median_of_decade_2010.median()\n",
    "print(f\"The median GDP of the 2010s was: {median_gdp_2010}\")\n",
    "years_2020s = country_gdp_df[['2020', '2021', '2022']]\n",
    "median_of_decade_2020 = years_2020s.median()\n",
    "median_gdp_2020 = median_of_decade_2020.median()\n",
    "print(f\"The median GDP of the 2020s was: {median_gdp_2020}\")\n",
    "\n",
    "\n"
   ]
  },
  {
   "cell_type": "code",
   "execution_count": 33,
   "metadata": {},
   "outputs": [
    {
     "data": {
      "image/png": "[encoded data removed]",
      "text/plain": [
       "<Figure size 640x480 with 1 Axes>"
      ]
     },
     "metadata": {},
     "output_type": "display_data"
    }
   ],
   "source": [
    "x_values = ['70s', '80s', '90s', '2000s', '2010s', '2020s']\n",
    "y_values = [median_gdp_70, median_gdp_80, median_gdp_90, median_gdp_2000, median_gdp_2010, median_gdp_2020]\n",
    "plt.bar(x_values, y_values)\n",
    "plt.title(\"The Median GDP per Decade (1970-2022)\")\n",
    "plt.xlabel(\"Decades\")\n",
    "plt.ylabel(\"Median GDP per Capita (USD)\")\n",
    "\n",
    "plt.savefig('Median_GDP_Per_Decade.png', format = 'png', dpi = 300)\n",
    "\n"
   ]
  },
  {
   "cell_type": "code",
   "execution_count": null,
   "metadata": {},
   "outputs": [],
   "source": [
    "Dylan End\n",
    "\n"
   ]
  },
  {
   "cell_type": "code",
   "execution_count": null,
   "metadata": {},
   "outputs": [],
   "source": [
    "\n",
    "\n",
    "Kossivi Start\n",
    "\n"
   ]
  },
  {
   "cell_type": "code",
   "execution_count": null,
   "metadata": {},
   "outputs": [],
   "source": [
    "\n",
    "\n",
    "\n",
    "\n"
   ]
  },
  {
   "cell_type": "code",
   "execution_count": null,
   "metadata": {},
   "outputs": [],
   "source": [
    "\n",
    "\n",
    "\n",
    "\n"
   ]
  },
  {
   "cell_type": "code",
   "execution_count": null,
   "metadata": {},
   "outputs": [],
   "source": [
    "\n",
    "\n",
    "\n",
    "\n"
   ]
  },
  {
   "cell_type": "code",
   "execution_count": null,
   "metadata": {},
   "outputs": [],
   "source": [
    "\n",
    "\n",
    "\n",
    "\n"
   ]
  },
  {
   "cell_type": "code",
   "execution_count": null,
   "metadata": {},
   "outputs": [],
   "source": [
    "\n",
    "\n",
    "\n",
    "\n"
   ]
  },
  {
   "cell_type": "code",
   "execution_count": null,
   "metadata": {},
   "outputs": [],
   "source": [
    "\n",
    "\n",
    "\n",
    "\n"
   ]
  },
  {
   "cell_type": "code",
   "execution_count": null,
   "metadata": {},
   "outputs": [],
   "source": [
    "\n",
    "\n",
    "\n",
    "\n"
   ]
  },
  {
   "cell_type": "code",
   "execution_count": null,
   "metadata": {},
   "outputs": [],
   "source": [
    "\n",
    "\n",
    "\n",
    "\n"
   ]
  },
  {
   "cell_type": "code",
   "execution_count": null,
   "metadata": {},
   "outputs": [],
   "source": [
    "\n",
    "\n",
    "\n",
    "\n"
   ]
  },
  {
   "cell_type": "code",
   "execution_count": null,
   "metadata": {},
   "outputs": [],
   "source": [
    "\n",
    "\n",
    "\n",
    "\n"
   ]
  },
  {
   "cell_type": "code",
   "execution_count": null,
   "metadata": {},
   "outputs": [],
   "source": [
    "\n",
    "\n",
    "\n",
    "\n"
   ]
  },
  {
   "cell_type": "code",
   "execution_count": null,
   "metadata": {},
   "outputs": [],
   "source": [
    "\n",
    "\n",
    "\n",
    "\n"
   ]
  },
  {
   "cell_type": "code",
   "execution_count": null,
   "metadata": {},
   "outputs": [],
   "source": [
    "\n",
    "Kossivi End\n",
    "\n"
   ]
  }
 ],
 "metadata": {
  "kernelspec": {
   "display_name": "Python 3 (ipykernel)",
   "language": "python",
   "name": "python3"
  },
  "language_info": {
   "codemirror_mode": {
    "name": "ipython",
    "version": 3
   },
   "file_extension": ".py",
   "mimetype": "text/x-python",
   "name": "python",
   "nbconvert_exporter": "python",
   "pygments_lexer": "ipython3",
   "version": "3.12.4"
  }
 },
 "nbformat": 4,
 "nbformat_minor": 4
}
