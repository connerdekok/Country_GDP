{
 "cells": [
  {
   "cell_type": "markdown",
   "metadata": {},
   "source": [
    "# Project 1: Countries GDP Compared\n",
    "---\n",
    "\n",
    "## Contributors- Conner Dekok, Emily Turner, Zane Huttinga, Dylan Philmister, and Kossivi Agbenohevi. "
   ]
  },
  {
   "cell_type": "code",
   "execution_count": 2,
   "metadata": {},
   "outputs": [
    {
     "data": {
      "text/html": [
       "<div>\n",
       "<style scoped>\n",
       "    .dataframe tbody tr th:only-of-type {\n",
       "        vertical-align: middle;\n",
       "    }\n",
       "\n",
       "    .dataframe tbody tr th {\n",
       "        vertical-align: top;\n",
       "    }\n",
       "\n",
       "    .dataframe thead th {\n",
       "        text-align: right;\n",
       "    }\n",
       "</style>\n",
       "<table border=\"1\" class=\"dataframe\">\n",
       "  <thead>\n",
       "    <tr style=\"text-align: right;\">\n",
       "      <th></th>\n",
       "      <th>Sr.No</th>\n",
       "      <th>Country</th>\n",
       "      <th>1970</th>\n",
       "      <th>1971</th>\n",
       "      <th>1972</th>\n",
       "      <th>1973</th>\n",
       "      <th>1974</th>\n",
       "      <th>1975</th>\n",
       "      <th>1976</th>\n",
       "      <th>1977</th>\n",
       "      <th>...</th>\n",
       "      <th>2013</th>\n",
       "      <th>2014</th>\n",
       "      <th>2015</th>\n",
       "      <th>2016</th>\n",
       "      <th>2017</th>\n",
       "      <th>2018</th>\n",
       "      <th>2019</th>\n",
       "      <th>2020</th>\n",
       "      <th>2021</th>\n",
       "      <th>2022</th>\n",
       "    </tr>\n",
       "  </thead>\n",
       "  <tbody>\n",
       "    <tr>\n",
       "      <th>0</th>\n",
       "      <td>1</td>\n",
       "      <td>Afghanistan</td>\n",
       "      <td>162.642176</td>\n",
       "      <td>166.224832</td>\n",
       "      <td>141.365323</td>\n",
       "      <td>149.744069</td>\n",
       "      <td>181.598776</td>\n",
       "      <td>194.669036</td>\n",
       "      <td>205.674097</td>\n",
       "      <td>232.778698</td>\n",
       "      <td>...</td>\n",
       "      <td>631.060444</td>\n",
       "      <td>596.048898</td>\n",
       "      <td>554.004007</td>\n",
       "      <td>526.164709</td>\n",
       "      <td>534.020133</td>\n",
       "      <td>513.981256</td>\n",
       "      <td>512.910125</td>\n",
       "      <td>512.749930</td>\n",
       "      <td>378.082892</td>\n",
       "      <td>344.649112</td>\n",
       "    </tr>\n",
       "    <tr>\n",
       "      <th>1</th>\n",
       "      <td>2</td>\n",
       "      <td>Albania</td>\n",
       "      <td>974.554499</td>\n",
       "      <td>975.216820</td>\n",
       "      <td>976.521166</td>\n",
       "      <td>978.617771</td>\n",
       "      <td>981.265874</td>\n",
       "      <td>984.901966</td>\n",
       "      <td>989.749878</td>\n",
       "      <td>994.937066</td>\n",
       "      <td>...</td>\n",
       "      <td>4425.430822</td>\n",
       "      <td>4586.606188</td>\n",
       "      <td>3950.390255</td>\n",
       "      <td>4117.006970</td>\n",
       "      <td>4521.752217</td>\n",
       "      <td>5268.116608</td>\n",
       "      <td>5359.239078</td>\n",
       "      <td>5288.989573</td>\n",
       "      <td>6281.046775</td>\n",
       "      <td>6655.258391</td>\n",
       "    </tr>\n",
       "    <tr>\n",
       "      <th>2</th>\n",
       "      <td>3</td>\n",
       "      <td>Algeria</td>\n",
       "      <td>373.670080</td>\n",
       "      <td>380.125666</td>\n",
       "      <td>496.991248</td>\n",
       "      <td>624.193795</td>\n",
       "      <td>875.023948</td>\n",
       "      <td>989.243356</td>\n",
       "      <td>1075.725904</td>\n",
       "      <td>1225.090692</td>\n",
       "      <td>...</td>\n",
       "      <td>5519.777576</td>\n",
       "      <td>5516.229431</td>\n",
       "      <td>4197.417286</td>\n",
       "      <td>3967.200546</td>\n",
       "      <td>4134.936055</td>\n",
       "      <td>4171.795392</td>\n",
       "      <td>4021.983602</td>\n",
       "      <td>3354.157303</td>\n",
       "      <td>3700.320562</td>\n",
       "      <td>4273.922183</td>\n",
       "    </tr>\n",
       "    <tr>\n",
       "      <th>3</th>\n",
       "      <td>4</td>\n",
       "      <td>Andorra</td>\n",
       "      <td>5008.901637</td>\n",
       "      <td>5305.716707</td>\n",
       "      <td>6285.301526</td>\n",
       "      <td>7824.531307</td>\n",
       "      <td>9078.009005</td>\n",
       "      <td>10076.494834</td>\n",
       "      <td>9817.312977</td>\n",
       "      <td>10384.507961</td>\n",
       "      <td>...</td>\n",
       "      <td>44735.004774</td>\n",
       "      <td>45619.782548</td>\n",
       "      <td>38869.870777</td>\n",
       "      <td>39904.138181</td>\n",
       "      <td>40632.206416</td>\n",
       "      <td>42904.822583</td>\n",
       "      <td>41328.634079</td>\n",
       "      <td>37207.175636</td>\n",
       "      <td>42065.970756</td>\n",
       "      <td>42293.297081</td>\n",
       "    </tr>\n",
       "    <tr>\n",
       "      <th>4</th>\n",
       "      <td>5</td>\n",
       "      <td>Angola</td>\n",
       "      <td>631.514939</td>\n",
       "      <td>648.910896</td>\n",
       "      <td>644.659613</td>\n",
       "      <td>762.730111</td>\n",
       "      <td>827.378464</td>\n",
       "      <td>589.868220</td>\n",
       "      <td>547.946934</td>\n",
       "      <td>578.443953</td>\n",
       "      <td>...</td>\n",
       "      <td>5228.511165</td>\n",
       "      <td>5371.216648</td>\n",
       "      <td>4130.930080</td>\n",
       "      <td>3468.520268</td>\n",
       "      <td>4042.681382</td>\n",
       "      <td>3240.862207</td>\n",
       "      <td>2569.629757</td>\n",
       "      <td>1639.951023</td>\n",
       "      <td>2026.030952</td>\n",
       "      <td>3183.699796</td>\n",
       "    </tr>\n",
       "    <tr>\n",
       "      <th>...</th>\n",
       "      <td>...</td>\n",
       "      <td>...</td>\n",
       "      <td>...</td>\n",
       "      <td>...</td>\n",
       "      <td>...</td>\n",
       "      <td>...</td>\n",
       "      <td>...</td>\n",
       "      <td>...</td>\n",
       "      <td>...</td>\n",
       "      <td>...</td>\n",
       "      <td>...</td>\n",
       "      <td>...</td>\n",
       "      <td>...</td>\n",
       "      <td>...</td>\n",
       "      <td>...</td>\n",
       "      <td>...</td>\n",
       "      <td>...</td>\n",
       "      <td>...</td>\n",
       "      <td>...</td>\n",
       "      <td>...</td>\n",
       "      <td>...</td>\n",
       "    </tr>\n",
       "    <tr>\n",
       "      <th>182</th>\n",
       "      <td>183</td>\n",
       "      <td>Yemen Arab Republic (Former)</td>\n",
       "      <td>76.222959</td>\n",
       "      <td>87.998562</td>\n",
       "      <td>124.898913</td>\n",
       "      <td>110.398671</td>\n",
       "      <td>130.344863</td>\n",
       "      <td>154.173397</td>\n",
       "      <td>163.609346</td>\n",
       "      <td>181.710840</td>\n",
       "      <td>...</td>\n",
       "      <td>NaN</td>\n",
       "      <td>NaN</td>\n",
       "      <td>NaN</td>\n",
       "      <td>NaN</td>\n",
       "      <td>NaN</td>\n",
       "      <td>NaN</td>\n",
       "      <td>NaN</td>\n",
       "      <td>NaN</td>\n",
       "      <td>NaN</td>\n",
       "      <td>NaN</td>\n",
       "    </tr>\n",
       "    <tr>\n",
       "      <th>183</th>\n",
       "      <td>184</td>\n",
       "      <td>Yemen Democratic (Former)</td>\n",
       "      <td>94.929351</td>\n",
       "      <td>85.003136</td>\n",
       "      <td>92.397759</td>\n",
       "      <td>73.556033</td>\n",
       "      <td>76.071783</td>\n",
       "      <td>75.559923</td>\n",
       "      <td>95.488404</td>\n",
       "      <td>114.550976</td>\n",
       "      <td>...</td>\n",
       "      <td>NaN</td>\n",
       "      <td>NaN</td>\n",
       "      <td>NaN</td>\n",
       "      <td>NaN</td>\n",
       "      <td>NaN</td>\n",
       "      <td>NaN</td>\n",
       "      <td>NaN</td>\n",
       "      <td>NaN</td>\n",
       "      <td>NaN</td>\n",
       "      <td>NaN</td>\n",
       "    </tr>\n",
       "    <tr>\n",
       "      <th>184</th>\n",
       "      <td>185</td>\n",
       "      <td>Yugoslavia (Former)</td>\n",
       "      <td>704.150562</td>\n",
       "      <td>757.937976</td>\n",
       "      <td>783.579953</td>\n",
       "      <td>1011.118968</td>\n",
       "      <td>1385.814039</td>\n",
       "      <td>1537.956907</td>\n",
       "      <td>1719.654598</td>\n",
       "      <td>2071.555089</td>\n",
       "      <td>...</td>\n",
       "      <td>NaN</td>\n",
       "      <td>NaN</td>\n",
       "      <td>NaN</td>\n",
       "      <td>NaN</td>\n",
       "      <td>NaN</td>\n",
       "      <td>NaN</td>\n",
       "      <td>NaN</td>\n",
       "      <td>NaN</td>\n",
       "      <td>NaN</td>\n",
       "      <td>NaN</td>\n",
       "    </tr>\n",
       "    <tr>\n",
       "      <th>185</th>\n",
       "      <td>186</td>\n",
       "      <td>Zambia</td>\n",
       "      <td>360.651807</td>\n",
       "      <td>357.771353</td>\n",
       "      <td>409.332165</td>\n",
       "      <td>504.983508</td>\n",
       "      <td>604.411205</td>\n",
       "      <td>539.065320</td>\n",
       "      <td>553.914220</td>\n",
       "      <td>528.811611</td>\n",
       "      <td>...</td>\n",
       "      <td>1745.014154</td>\n",
       "      <td>1696.117261</td>\n",
       "      <td>1283.982258</td>\n",
       "      <td>1227.976126</td>\n",
       "      <td>1497.004453</td>\n",
       "      <td>1475.226627</td>\n",
       "      <td>1268.212284</td>\n",
       "      <td>954.356128</td>\n",
       "      <td>1135.078255</td>\n",
       "      <td>1455.546876</td>\n",
       "    </tr>\n",
       "    <tr>\n",
       "      <th>186</th>\n",
       "      <td>187</td>\n",
       "      <td>Zimbabwe</td>\n",
       "      <td>449.078443</td>\n",
       "      <td>503.731409</td>\n",
       "      <td>603.030370</td>\n",
       "      <td>718.359564</td>\n",
       "      <td>836.465455</td>\n",
       "      <td>889.056832</td>\n",
       "      <td>851.930852</td>\n",
       "      <td>838.458026</td>\n",
       "      <td>...</td>\n",
       "      <td>1408.367809</td>\n",
       "      <td>1407.034293</td>\n",
       "      <td>1410.329175</td>\n",
       "      <td>1421.787790</td>\n",
       "      <td>1494.170144</td>\n",
       "      <td>1570.886029</td>\n",
       "      <td>1471.513983</td>\n",
       "      <td>1382.591426</td>\n",
       "      <td>1507.994790</td>\n",
       "      <td>1618.733070</td>\n",
       "    </tr>\n",
       "  </tbody>\n",
       "</table>\n",
       "<p>187 rows × 55 columns</p>\n",
       "</div>"
      ],
      "text/plain": [
       "     Sr.No                       Country         1970         1971  \\\n",
       "0        1                   Afghanistan   162.642176   166.224832   \n",
       "1        2                       Albania   974.554499   975.216820   \n",
       "2        3                       Algeria   373.670080   380.125666   \n",
       "3        4                       Andorra  5008.901637  5305.716707   \n",
       "4        5                        Angola   631.514939   648.910896   \n",
       "..     ...                           ...          ...          ...   \n",
       "182    183  Yemen Arab Republic (Former)    76.222959    87.998562   \n",
       "183    184     Yemen Democratic (Former)    94.929351    85.003136   \n",
       "184    185           Yugoslavia (Former)   704.150562   757.937976   \n",
       "185    186                        Zambia   360.651807   357.771353   \n",
       "186    187                      Zimbabwe   449.078443   503.731409   \n",
       "\n",
       "            1972         1973         1974          1975         1976  \\\n",
       "0     141.365323   149.744069   181.598776    194.669036   205.674097   \n",
       "1     976.521166   978.617771   981.265874    984.901966   989.749878   \n",
       "2     496.991248   624.193795   875.023948    989.243356  1075.725904   \n",
       "3    6285.301526  7824.531307  9078.009005  10076.494834  9817.312977   \n",
       "4     644.659613   762.730111   827.378464    589.868220   547.946934   \n",
       "..           ...          ...          ...           ...          ...   \n",
       "182   124.898913   110.398671   130.344863    154.173397   163.609346   \n",
       "183    92.397759    73.556033    76.071783     75.559923    95.488404   \n",
       "184   783.579953  1011.118968  1385.814039   1537.956907  1719.654598   \n",
       "185   409.332165   504.983508   604.411205    539.065320   553.914220   \n",
       "186   603.030370   718.359564   836.465455    889.056832   851.930852   \n",
       "\n",
       "             1977  ...          2013          2014          2015  \\\n",
       "0      232.778698  ...    631.060444    596.048898    554.004007   \n",
       "1      994.937066  ...   4425.430822   4586.606188   3950.390255   \n",
       "2     1225.090692  ...   5519.777576   5516.229431   4197.417286   \n",
       "3    10384.507961  ...  44735.004774  45619.782548  38869.870777   \n",
       "4      578.443953  ...   5228.511165   5371.216648   4130.930080   \n",
       "..            ...  ...           ...           ...           ...   \n",
       "182    181.710840  ...           NaN           NaN           NaN   \n",
       "183    114.550976  ...           NaN           NaN           NaN   \n",
       "184   2071.555089  ...           NaN           NaN           NaN   \n",
       "185    528.811611  ...   1745.014154   1696.117261   1283.982258   \n",
       "186    838.458026  ...   1408.367809   1407.034293   1410.329175   \n",
       "\n",
       "             2016          2017          2018          2019          2020  \\\n",
       "0      526.164709    534.020133    513.981256    512.910125    512.749930   \n",
       "1     4117.006970   4521.752217   5268.116608   5359.239078   5288.989573   \n",
       "2     3967.200546   4134.936055   4171.795392   4021.983602   3354.157303   \n",
       "3    39904.138181  40632.206416  42904.822583  41328.634079  37207.175636   \n",
       "4     3468.520268   4042.681382   3240.862207   2569.629757   1639.951023   \n",
       "..            ...           ...           ...           ...           ...   \n",
       "182           NaN           NaN           NaN           NaN           NaN   \n",
       "183           NaN           NaN           NaN           NaN           NaN   \n",
       "184           NaN           NaN           NaN           NaN           NaN   \n",
       "185   1227.976126   1497.004453   1475.226627   1268.212284    954.356128   \n",
       "186   1421.787790   1494.170144   1570.886029   1471.513983   1382.591426   \n",
       "\n",
       "             2021          2022  \n",
       "0      378.082892    344.649112  \n",
       "1     6281.046775   6655.258391  \n",
       "2     3700.320562   4273.922183  \n",
       "3    42065.970756  42293.297081  \n",
       "4     2026.030952   3183.699796  \n",
       "..            ...           ...  \n",
       "182           NaN           NaN  \n",
       "183           NaN           NaN  \n",
       "184           NaN           NaN  \n",
       "185   1135.078255   1455.546876  \n",
       "186   1507.994790   1618.733070  \n",
       "\n",
       "[187 rows x 55 columns]"
      ]
     },
     "execution_count": 2,
     "metadata": {},
     "output_type": "execute_result"
    }
   ],
   "source": [
    "#Import Data/ Read In Data\n",
    "import pandas as pd\n",
    "import numpy as np\n",
    "import matplotlib.pyplot as plt\n",
    "import scipy.stats as st\n",
    "Country_List = pd.read_csv(\"data/Per Capita GDP.csv\")\n",
    "Country_List"
   ]
  },
  {
   "cell_type": "code",
   "execution_count": null,
   "metadata": {},
   "outputs": [],
   "source": [
    "Cleaning Data If needed"
   ]
  },
  {
   "cell_type": "code",
   "execution_count": null,
   "metadata": {},
   "outputs": [],
   "source": []
  },
  {
   "cell_type": "code",
   "execution_count": null,
   "metadata": {},
   "outputs": [],
   "source": []
  },
  {
   "cell_type": "code",
   "execution_count": null,
   "metadata": {},
   "outputs": [],
   "source": [
    "\n",
    "\n"
   ]
  },
  {
   "cell_type": "code",
   "execution_count": null,
   "metadata": {},
   "outputs": [],
   "source": []
  },
  {
   "cell_type": "code",
   "execution_count": 3,
   "metadata": {},
   "outputs": [
    {
     "data": {
      "text/html": [
       "<div>\n",
       "<style scoped>\n",
       "    .dataframe tbody tr th:only-of-type {\n",
       "        vertical-align: middle;\n",
       "    }\n",
       "\n",
       "    .dataframe tbody tr th {\n",
       "        vertical-align: top;\n",
       "    }\n",
       "\n",
       "    .dataframe thead th {\n",
       "        text-align: right;\n",
       "    }\n",
       "</style>\n",
       "<table border=\"1\" class=\"dataframe\">\n",
       "  <thead>\n",
       "    <tr style=\"text-align: right;\">\n",
       "      <th></th>\n",
       "      <th>Mean</th>\n",
       "      <th>Median</th>\n",
       "      <th>Max</th>\n",
       "      <th>Min</th>\n",
       "    </tr>\n",
       "    <tr>\n",
       "      <th>Country</th>\n",
       "      <th></th>\n",
       "      <th></th>\n",
       "      <th></th>\n",
       "      <th></th>\n",
       "    </tr>\n",
       "  </thead>\n",
       "  <tbody>\n",
       "    <tr>\n",
       "      <th>Afghanistan</th>\n",
       "      <td>312.421918</td>\n",
       "      <td>287.403970</td>\n",
       "      <td>649.710978</td>\n",
       "      <td>1.000000</td>\n",
       "    </tr>\n",
       "    <tr>\n",
       "      <th>Albania</th>\n",
       "      <td>2090.944493</td>\n",
       "      <td>987.325922</td>\n",
       "      <td>6655.258391</td>\n",
       "      <td>2.000000</td>\n",
       "    </tr>\n",
       "    <tr>\n",
       "      <th>Algeria</th>\n",
       "      <td>2574.554926</td>\n",
       "      <td>2271.072870</td>\n",
       "      <td>5610.733341</td>\n",
       "      <td>3.000000</td>\n",
       "    </tr>\n",
       "    <tr>\n",
       "      <th>Andorra</th>\n",
       "      <td>25980.971818</td>\n",
       "      <td>23613.429600</td>\n",
       "      <td>53721.433995</td>\n",
       "      <td>4.000000</td>\n",
       "    </tr>\n",
       "    <tr>\n",
       "      <th>Angola</th>\n",
       "      <td>1695.716511</td>\n",
       "      <td>941.523445</td>\n",
       "      <td>5371.216648</td>\n",
       "      <td>5.000000</td>\n",
       "    </tr>\n",
       "    <tr>\n",
       "      <th>...</th>\n",
       "      <td>...</td>\n",
       "      <td>...</td>\n",
       "      <td>...</td>\n",
       "      <td>...</td>\n",
       "    </tr>\n",
       "    <tr>\n",
       "      <th>Yemen Arab Republic (Former)</th>\n",
       "      <td>203.466746</td>\n",
       "      <td>214.699494</td>\n",
       "      <td>322.495275</td>\n",
       "      <td>76.222959</td>\n",
       "    </tr>\n",
       "    <tr>\n",
       "      <th>Yemen Democratic (Former)</th>\n",
       "      <td>152.000243</td>\n",
       "      <td>171.654023</td>\n",
       "      <td>225.507677</td>\n",
       "      <td>73.556033</td>\n",
       "    </tr>\n",
       "    <tr>\n",
       "      <th>Yugoslavia (Former)</th>\n",
       "      <td>2345.052531</td>\n",
       "      <td>2756.714455</td>\n",
       "      <td>3945.127913</td>\n",
       "      <td>185.000000</td>\n",
       "    </tr>\n",
       "    <tr>\n",
       "      <th>Zambia</th>\n",
       "      <td>760.090640</td>\n",
       "      <td>546.489770</td>\n",
       "      <td>1745.014154</td>\n",
       "      <td>186.000000</td>\n",
       "    </tr>\n",
       "    <tr>\n",
       "      <th>Zimbabwe</th>\n",
       "      <td>1005.826868</td>\n",
       "      <td>980.912164</td>\n",
       "      <td>1618.733070</td>\n",
       "      <td>187.000000</td>\n",
       "    </tr>\n",
       "  </tbody>\n",
       "</table>\n",
       "<p>187 rows × 4 columns</p>\n",
       "</div>"
      ],
      "text/plain": [
       "                                      Mean        Median           Max  \\\n",
       "Country                                                                  \n",
       "Afghanistan                     312.421918    287.403970    649.710978   \n",
       "Albania                        2090.944493    987.325922   6655.258391   \n",
       "Algeria                        2574.554926   2271.072870   5610.733341   \n",
       "Andorra                       25980.971818  23613.429600  53721.433995   \n",
       "Angola                         1695.716511    941.523445   5371.216648   \n",
       "...                                    ...           ...           ...   \n",
       "Yemen Arab Republic (Former)    203.466746    214.699494    322.495275   \n",
       "Yemen Democratic (Former)       152.000243    171.654023    225.507677   \n",
       "Yugoslavia (Former)            2345.052531   2756.714455   3945.127913   \n",
       "Zambia                          760.090640    546.489770   1745.014154   \n",
       "Zimbabwe                       1005.826868    980.912164   1618.733070   \n",
       "\n",
       "                                     Min  \n",
       "Country                                   \n",
       "Afghanistan                     1.000000  \n",
       "Albania                         2.000000  \n",
       "Algeria                         3.000000  \n",
       "Andorra                         4.000000  \n",
       "Angola                          5.000000  \n",
       "...                                  ...  \n",
       "Yemen Arab Republic (Former)   76.222959  \n",
       "Yemen Democratic (Former)      73.556033  \n",
       "Yugoslavia (Former)           185.000000  \n",
       "Zambia                        186.000000  \n",
       "Zimbabwe                      187.000000  \n",
       "\n",
       "[187 rows x 4 columns]"
      ]
     },
     "execution_count": 3,
     "metadata": {},
     "output_type": "execute_result"
    }
   ],
   "source": [
    "\n",
    "# Find Data in CSV file\n",
    "df = pd.read_csv(\"data/Per Capita GDP.csv\")\n",
    "\n",
    "# Set the 'Country' column as the index\n",
    "df.set_index('Country', inplace=True)\n",
    "\n",
    "# Calculate the mean for each country\n",
    "mean_summary = df.mean(axis=1)\n",
    "\n",
    "# Calculate the median for each country\n",
    "median_summary = df.median(axis=1)\n",
    "\n",
    "# Calculate the maximum for each country\n",
    "max_summary = df.max(axis=1)\n",
    "\n",
    "# Calculate the minimum for each country\n",
    "min_summary = df.min(axis=1)\n",
    "\n",
    "# Combine the summaries into a new DataFrame\n",
    "summary_df = pd.DataFrame({\n",
    "    'Mean': mean_summary,\n",
    "    'Median': median_summary,\n",
    "    'Max': max_summary,\n",
    "    'Min': min_summary})\n",
    "\n",
    "summary_df"
   ]
  },
  {
   "cell_type": "code",
   "execution_count": 1,
   "metadata": {},
   "outputs": [],
   "source": [
    "#Conner Start\n",
    "\n"
   ]
  },
  {
   "cell_type": "code",
   "execution_count": 4,
   "metadata": {},
   "outputs": [
    {
     "name": "stdout",
     "output_type": "stream",
     "text": [
      "                   Country  Year      Increase\n",
      "9648                Monaco  2021  52595.440956\n",
      "9635         Liechtenstein  2021  32217.339506\n",
      "9663                Norway  2021  22408.906866\n",
      "9862                 Qatar  2022  21115.424320\n",
      "9636            Luxembourg  2021  16958.111008\n",
      "9621               Ireland  2021  16300.245910\n",
      "5268        Cayman Islands  1998  14954.233577\n",
      "922   United Arab Emirates  1974  14257.520939\n",
      "7829           Switzerland  2011  13937.376049\n",
      "7705      China, Macao SAR  2011  13851.970948\n"
     ]
    }
   ],
   "source": [
    "import pandas as pd\n",
    "\n",
    "# Assuming your data is in a CSV file\n",
    "df = pd.read_csv(\"data/Per Capita GDP.csv\")\n",
    "\n",
    "# Melt the dataframe to have 'Year' and 'Value' columns\n",
    "df_melted = df.melt(id_vars=['Sr.No', 'Country'], var_name='Year', value_name='Value')\n",
    "\n",
    "# Convert 'Year' to integer\n",
    "df_melted['Year'] = df_melted['Year'].astype(int)\n",
    "\n",
    "# Sort values by Country and Year\n",
    "df_melted = df_melted.sort_values(by=['Country', 'Year'])\n",
    "\n",
    "# Calculate the year-to-year increase\n",
    "df_melted['Increase'] = df_melted.groupby('Country')['Value'].diff()\n",
    "\n",
    "# Find the top 10 increases per country\n",
    "top_increases = df_melted.loc[df_melted.groupby('Country')['Increase'].idxmax()]\n",
    "\n",
    "# Sort by the greatest increase and select the top \n",
    "top_10_increases = top_increases.nlargest(10, 'Increase')\n",
    "\n",
    "print(top_10_increases[['Country', 'Year', 'Increase']])\n",
    "\n"
   ]
  },
  {
   "cell_type": "code",
   "execution_count": 5,
   "metadata": {},
   "outputs": [
    {
     "data": {
      "image/png": "[encoded data removed]",
      "text/plain": [
       "<Figure size 1200x800 with 1 Axes>"
      ]
     },
     "metadata": {},
     "output_type": "display_data"
    }
   ],
   "source": [
    "# Plotting the bar chart\n",
    "\n",
    "top_10_increases['Country_Year'] = top_10_increases['Country'] + ' ' + top_10_increases['Year'].astype(str)\n",
    "\n",
    "plt.figure(figsize=(12, 8))\n",
    "plt.bar(top_10_increases['Country_Year'], top_10_increases['Increase'], color='skyblue')\n",
    "plt.xlabel('Country and Year')\n",
    "plt.ylabel('Increase In GDP')\n",
    "plt.title('Top 10 Year-to-Year Increases in Per Capita GDP')\n",
    "plt.xticks(rotation=45)\n",
    "plt.show()\n"
   ]
  },
  {
   "cell_type": "code",
   "execution_count": 6,
   "metadata": {},
   "outputs": [
    {
     "name": "stdout",
     "output_type": "stream",
     "text": [
      "                   Country  Year      Decrease\n",
      "9201      China, Macao SAR  2019  45523.897687\n",
      "7217                Monaco  2008  34996.471630\n",
      "8366                 Qatar  2014  26141.239260\n",
      "8354                Norway  2014  22868.802968\n",
      "7204         Liechtenstein  2008  19110.696941\n",
      "8327            Luxembourg  2014  18113.831009\n",
      "7198                Kuwait  2008  17689.787421\n",
      "7185               Iceland  2008  15627.127908\n",
      "7251            San Marino  2008  13563.414488\n",
      "7280  United Arab Emirates  2008  13369.782245\n"
     ]
    }
   ],
   "source": [
    "# Assuming your data is in a CSV file\n",
    "df = pd.read_csv(\"data/Per Capita GDP.csv\")\n",
    "\n",
    "# Melt the dataframe to have 'Year' and 'Value' columns\n",
    "df_melted = df.melt(id_vars=['Sr.No', 'Country'], var_name='Year', value_name='Value')\n",
    "\n",
    "# Convert 'Year' to integer\n",
    "df_melted['Year'] = df_melted['Year'].astype(int)\n",
    "\n",
    "# Sort values by Country and Year\n",
    "df_melted = df_melted.sort_values(by=['Country', 'Year'])\n",
    "\n",
    "# Calculate the year-to-year decrease\n",
    "df_melted['Decrease'] = df_melted.groupby('Country')['Value'].diff(-1)\n",
    "\n",
    "# Find the top 10 decreases per country\n",
    "top_decreases = df_melted.loc[df_melted.groupby('Country')['Decrease'].idxmax()]\n",
    "\n",
    "# Sort by the greatest decrease and select the top 10 \n",
    "top_10_decreases = top_decreases.nlargest(10, 'Decrease')\n",
    "\n",
    "print(top_10_decreases[['Country', 'Year', 'Decrease']])"
   ]
  },
  {
   "cell_type": "code",
   "execution_count": 7,
   "metadata": {},
   "outputs": [
    {
     "data": {
      "image/png": "[encoded data removed]",
      "text/plain": [
       "<Figure size 1200x800 with 1 Axes>"
      ]
     },
     "metadata": {},
     "output_type": "display_data"
    }
   ],
   "source": [
    "\n",
    "top_10_decreases['Country_Year'] = top_10_decreases['Country'] + ' ' + top_10_decreases['Year'].astype(str)\n",
    "\n",
    "#Flips chart over x axis to create negative values\n",
    "top_10_decreases['Decrease'] = -top_10_decreases['Decrease']\n",
    "\n",
    "plt.figure(figsize=(12, 8))\n",
    "plt.bar(top_10_decreases['Country_Year'], top_10_decreases['Decrease'], color='skyblue')\n",
    "plt.xlabel('Country and Year')\n",
    "plt.ylabel('Decrease In GDP')\n",
    "plt.title('Top 10 Year-to-Year Decreases in Per Capita GDP')\n",
    "plt.xticks(rotation=45)\n",
    "plt.show()\n"
   ]
  },
  {
   "cell_type": "code",
   "execution_count": null,
   "metadata": {},
   "outputs": [],
   "source": [
    "\n",
    "\n"
   ]
  },
  {
   "cell_type": "code",
   "execution_count": null,
   "metadata": {},
   "outputs": [],
   "source": [
    "\n",
    "\n"
   ]
  },
  {
   "cell_type": "code",
   "execution_count": null,
   "metadata": {},
   "outputs": [],
   "source": [
    "\n",
    "\n",
    "\n",
    "\n"
   ]
  },
  {
   "cell_type": "code",
   "execution_count": null,
   "metadata": {},
   "outputs": [],
   "source": [
    "\n",
    "\n"
   ]
  },
  {
   "cell_type": "code",
   "execution_count": null,
   "metadata": {},
   "outputs": [],
   "source": [
    "#Conner End\n",
    "\n"
   ]
  },
  {
   "cell_type": "code",
   "execution_count": null,
   "metadata": {},
   "outputs": [],
   "source": [
    "#Emily Start\n",
    "\n"
   ]
  },
  {
   "cell_type": "code",
   "execution_count": null,
   "metadata": {},
   "outputs": [],
   "source": [
    "\n",
    "\n"
   ]
  },
  {
   "cell_type": "code",
   "execution_count": null,
   "metadata": {},
   "outputs": [],
   "source": [
    "\n",
    "\n"
   ]
  },
  {
   "cell_type": "code",
   "execution_count": null,
   "metadata": {},
   "outputs": [],
   "source": [
    "\n",
    "\n"
   ]
  },
  {
   "cell_type": "code",
   "execution_count": null,
   "metadata": {},
   "outputs": [],
   "source": [
    "\n",
    "\n"
   ]
  },
  {
   "cell_type": "code",
   "execution_count": null,
   "metadata": {},
   "outputs": [],
   "source": [
    "\n",
    "\n"
   ]
  },
  {
   "cell_type": "code",
   "execution_count": null,
   "metadata": {},
   "outputs": [],
   "source": [
    "\n",
    "\n"
   ]
  },
  {
   "cell_type": "code",
   "execution_count": null,
   "metadata": {},
   "outputs": [],
   "source": [
    "\n",
    "\n"
   ]
  },
  {
   "cell_type": "code",
   "execution_count": null,
   "metadata": {},
   "outputs": [],
   "source": [
    "\n",
    "\n"
   ]
  },
  {
   "cell_type": "code",
   "execution_count": null,
   "metadata": {},
   "outputs": [],
   "source": [
    "#Emily End\n"
   ]
  },
  {
   "cell_type": "code",
   "execution_count": null,
   "metadata": {},
   "outputs": [],
   "source": [
    "#Zane Start\n",
    "\n"
   ]
  },
  {
   "cell_type": "code",
   "execution_count": null,
   "metadata": {},
   "outputs": [],
   "source": [
    "\n",
    "\n"
   ]
  },
  {
   "cell_type": "code",
   "execution_count": null,
   "metadata": {},
   "outputs": [],
   "source": [
    "\n",
    "\n"
   ]
  },
  {
   "cell_type": "code",
   "execution_count": null,
   "metadata": {},
   "outputs": [],
   "source": [
    "\n",
    "\n"
   ]
  },
  {
   "cell_type": "code",
   "execution_count": null,
   "metadata": {},
   "outputs": [],
   "source": [
    "\n",
    "\n"
   ]
  },
  {
   "cell_type": "code",
   "execution_count": null,
   "metadata": {},
   "outputs": [],
   "source": [
    "\n",
    "\n",
    "\n",
    "\n"
   ]
  },
  {
   "cell_type": "code",
   "execution_count": null,
   "metadata": {},
   "outputs": [],
   "source": [
    "\n",
    "\n",
    "\n",
    "\n"
   ]
  },
  {
   "cell_type": "code",
   "execution_count": null,
   "metadata": {},
   "outputs": [],
   "source": [
    "\n",
    "\n",
    "\n",
    "\n"
   ]
  },
  {
   "cell_type": "code",
   "execution_count": null,
   "metadata": {},
   "outputs": [],
   "source": [
    "\n",
    "\n",
    "\n",
    "\n"
   ]
  },
  {
   "cell_type": "code",
   "execution_count": null,
   "metadata": {},
   "outputs": [],
   "source": [
    "\n",
    "\n",
    "\n",
    "\n"
   ]
  },
  {
   "cell_type": "code",
   "execution_count": null,
   "metadata": {},
   "outputs": [],
   "source": [
    "#Zane End\n",
    "\n",
    "\n",
    "\n"
   ]
  },
  {
   "cell_type": "code",
   "execution_count": null,
   "metadata": {},
   "outputs": [],
   "source": [
    "\n",
    "#Dylan Start\n",
    "\n",
    "\n"
   ]
  },
  {
   "cell_type": "code",
   "execution_count": null,
   "metadata": {},
   "outputs": [],
   "source": [
    "\n",
    "\n",
    "\n",
    "\n"
   ]
  },
  {
   "cell_type": "code",
   "execution_count": null,
   "metadata": {},
   "outputs": [],
   "source": [
    "\n",
    "\n",
    "\n",
    "\n"
   ]
  },
  {
   "cell_type": "code",
   "execution_count": null,
   "metadata": {},
   "outputs": [],
   "source": [
    "\n",
    "\n",
    "\n",
    "\n"
   ]
  },
  {
   "cell_type": "code",
   "execution_count": null,
   "metadata": {},
   "outputs": [],
   "source": [
    "\n",
    "\n",
    "\n",
    "\n"
   ]
  },
  {
   "cell_type": "code",
   "execution_count": null,
   "metadata": {},
   "outputs": [],
   "source": [
    "\n",
    "\n",
    "\n",
    "\n"
   ]
  },
  {
   "cell_type": "code",
   "execution_count": null,
   "metadata": {},
   "outputs": [],
   "source": [
    "\n",
    "\n",
    "\n",
    "\n"
   ]
  },
  {
   "cell_type": "code",
   "execution_count": null,
   "metadata": {},
   "outputs": [],
   "source": [
    "\n",
    "\n",
    "\n",
    "\n"
   ]
  },
  {
   "cell_type": "code",
   "execution_count": null,
   "metadata": {},
   "outputs": [],
   "source": [
    "\n",
    "\n",
    "\n",
    "\n"
   ]
  },
  {
   "cell_type": "code",
   "execution_count": null,
   "metadata": {},
   "outputs": [],
   "source": [
    "#Dylan End\n",
    "\n"
   ]
  },
  {
   "cell_type": "code",
   "execution_count": null,
   "metadata": {},
   "outputs": [],
   "source": [
    "\n",
    "\n",
    "#Kossivi Start\n",
    "\n"
   ]
  },
  {
   "cell_type": "code",
   "execution_count": null,
   "metadata": {},
   "outputs": [],
   "source": [
    "\n",
    "\n",
    "\n",
    "\n"
   ]
  },
  {
   "cell_type": "code",
   "execution_count": null,
   "metadata": {},
   "outputs": [],
   "source": [
    "\n",
    "\n",
    "\n",
    "\n"
   ]
  },
  {
   "cell_type": "code",
   "execution_count": null,
   "metadata": {},
   "outputs": [],
   "source": [
    "\n",
    "\n",
    "\n",
    "\n"
   ]
  },
  {
   "cell_type": "code",
   "execution_count": null,
   "metadata": {},
   "outputs": [],
   "source": [
    "\n",
    "\n",
    "\n",
    "\n"
   ]
  },
  {
   "cell_type": "code",
   "execution_count": null,
   "metadata": {},
   "outputs": [],
   "source": [
    "\n",
    "\n",
    "\n",
    "\n"
   ]
  },
  {
   "cell_type": "code",
   "execution_count": null,
   "metadata": {},
   "outputs": [],
   "source": [
    "\n",
    "\n",
    "\n",
    "\n"
   ]
  },
  {
   "cell_type": "code",
   "execution_count": null,
   "metadata": {},
   "outputs": [],
   "source": [
    "\n",
    "\n",
    "\n",
    "\n"
   ]
  },
  {
   "cell_type": "code",
   "execution_count": null,
   "metadata": {},
   "outputs": [],
   "source": [
    "\n",
    "\n",
    "\n",
    "\n"
   ]
  },
  {
   "cell_type": "code",
   "execution_count": null,
   "metadata": {},
   "outputs": [],
   "source": [
    "\n",
    "\n",
    "\n",
    "\n"
   ]
  },
  {
   "cell_type": "code",
   "execution_count": null,
   "metadata": {},
   "outputs": [],
   "source": [
    "\n",
    "\n",
    "\n",
    "\n"
   ]
  },
  {
   "cell_type": "code",
   "execution_count": null,
   "metadata": {},
   "outputs": [],
   "source": [
    "\n",
    "\n",
    "\n",
    "\n"
   ]
  },
  {
   "cell_type": "code",
   "execution_count": null,
   "metadata": {},
   "outputs": [],
   "source": [
    "\n",
    "\n",
    "\n",
    "\n"
   ]
  },
  {
   "cell_type": "code",
   "execution_count": null,
   "metadata": {},
   "outputs": [],
   "source": [
    "\n",
    "#Kossivi End\n",
    "\n"
   ]
  }
 ],
 "metadata": {
  "kernelspec": {
   "display_name": "dev",
   "language": "python",
   "name": "python3"
  },
  "language_info": {
   "codemirror_mode": {
    "name": "ipython",
    "version": 3
   },
   "file_extension": ".py",
   "mimetype": "text/x-python",
   "name": "python",
   "nbconvert_exporter": "python",
   "pygments_lexer": "ipython3",
   "version": "3.10.14"
  }
 },
 "nbformat": 4,
 "nbformat_minor": 2
}
